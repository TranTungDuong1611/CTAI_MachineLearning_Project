{
 "cells": [
  {
   "cell_type": "markdown",
   "metadata": {
    "id": "ttHUknFTIGjB"
   },
   "source": [
    "# Bài toán\n",
    "\n",
    "> **Thu thập dữ liệu báo Việt Nam (Vietnamnet)**\n",
    "\n",
    "\n",
    "Cũng giống như VNExpress - Demo\n",
    "\n",
    "Mục tiêu:\n",
    "\n",
    "- Hiểu được quy trình thu thập dữ liệu từ các trang báo Việt Nam\n",
    "- Thu thập dữ liệu (bài báo) từ các trang báo Việt Nam để làm dữ liệu cho các bước xử lý sau\n",
    "\n",
    "Đầu ra:\n",
    "\n",
    "-  Tập file JSON chứa các bài bài báo có các trường dữ liệu:\n",
    "\n",
    "    - `url`: link dẫn đến bài báo\n",
    "    - `title`: tiêu đề bài báo\n",
    "    - `description`: tóm tắt bài báo\n",
    "    - `content`: nội dung bài báo\n",
    "    - `metadata`: trường dữ liệu bổ sung\n",
    "\n",
    "        - `cat`: thể loại bài báo\n",
    "        - `subcat`: thể loại con của bài báo\n",
    "        - `published_date`: thời gian xuất bản\n",
    "        - `author`: người viết\n",
    "    \n",
    "- Ví dụ về một bài báo:\n",
    "\n",
    "    ```\n",
    "     {\n",
    "        \"url\": \"https://vietnamnet.vn/khi-gap-van-xui-hay-nhin-3-...\",\n",
    "        \"title\": \"Khi gặp vận xui, hãy nhìn 3 bức ảnh này sẽ thấy cuộc đời ...\",\n",
    "        \"description\": \"Cuộc đời như thế nào tùy thuộc vào góc nhìn của từng ...\",\n",
    "        \"content\": \"Bức tranh 1: Có 3 hay 4 khúc gỗ?\\nCâu trả lời là 3 hoặc 4 khúc gỗ ...\",\n",
    "        \"metadata\": {\n",
    "            \"cat\": \"ĐỜI SỐNG\",\n",
    "            \"subcat\": \"GIỚI TRẺ\",\n",
    "            \"published_date\": 1721274540,\n",
    "            \"author\": \"Phan Hằng\"\n",
    "        },\n",
    "    },\n",
    "    ```\n"
   ]
  },
  {
   "cell_type": "markdown",
   "metadata": {
    "id": "Uz3e5P55H7D5"
   },
   "source": [
    "# Các bước tiến hành"
   ]
  },
  {
   "cell_type": "markdown",
   "metadata": {
    "id": "WdXVtu4NH7D7"
   },
   "source": [
    "## Chuẩn bị các thư viện cần thiết"
   ]
  },
  {
   "cell_type": "code",
   "execution_count": null,
   "metadata": {
    "id": "zvVdPKnHQ9FN"
   },
   "outputs": [
    {
     "name": "stdout",
     "output_type": "stream",
     "text": [
      "\u001b[31mERROR: Could not find a version that satisfies the requirement chromium-chromedriver (from versions: none)\u001b[0m\u001b[31m\n",
      "\u001b[0m\u001b[31mERROR: No matching distribution found for chromium-chromedriver\u001b[0m\u001b[31m\n",
      "\u001b[0m"
     ]
    }
   ],
   "source": [
    "# Suitable for Google Colab, for local please follow the external instructions and ignore this line\n",
    "# and follows https://docs.google.com/document/d/14jK9d6KHJYX0b-gFAVqAghUxT7OLAM0nP2IovL7_Rjs/edit?usp=sharing\n",
    "!apt install -qq chromium-chromedriver"
   ]
  },
  {
   "cell_type": "code",
   "execution_count": 3,
   "metadata": {
    "id": "_j2AouMEQ-m9"
   },
   "outputs": [],
   "source": [
    "# Install selenium\n",
    "!pip install -qq selenium\n",
    "\n",
    "# Tạo thư mục để chứa data\n",
    "!mkdir -p data"
   ]
  },
  {
   "cell_type": "code",
   "execution_count": 4,
   "metadata": {
    "id": "6FThN2-ERBCN"
   },
   "outputs": [],
   "source": [
    "# selenium import\n",
    "from selenium import webdriver\n",
    "from selenium.webdriver.chrome.service import Service\n",
    "from selenium.webdriver.common.by import By\n",
    "from selenium.common.exceptions import StaleElementReferenceException, NoSuchElementException\n",
    "\n",
    "# other imports\n",
    "import os\n",
    "import json"
   ]
  },
  {
   "cell_type": "code",
   "execution_count": 13,
   "metadata": {
    "id": "GCtR5oKmH7D7"
   },
   "outputs": [],
   "source": [
    "# selenium setups\n",
    "## https://www.tutorialspoint.com/selenium/selenium_webdriver_chrome_webdriver_options.htm\n",
    "\n",
    "chrome_options = webdriver.ChromeOptions()\n",
    "\n",
    "# chrome_options.add_argument('--headless') # must options for Google Colab\n",
    "chrome_options.add_argument('--no-sandbox')\n",
    "chrome_options.add_argument('--disable-dev-shm-usage')\n",
    "chrome_options.add_argument(\"--disable-extensions\")\n",
    "chrome_options.add_argument(\"--disable-gpu\")\n"
   ]
  },
  {
   "cell_type": "code",
   "execution_count": 14,
   "metadata": {
    "id": "zwuvaaCPH7D8"
   },
   "outputs": [],
   "source": [
    "MAGAZINE_NAME = \"vietnamnet\"\n",
    "HOME_PAGE = \"https://vietnamnet.vn/\""
   ]
  },
  {
   "cell_type": "markdown",
   "metadata": {
    "id": "3gef7QlwH7D9"
   },
   "source": [
    "## Thu thập dữ liệu\n",
    "\n",
    "> **Các bước thu thập bài báo**\n",
    "\n",
    "\n",
    "1. News categories: Thu thập tất cả các thể loại báo của website\n",
    "2. News urls: Thu thập một số đường dẫn dựa vài từng thể loại báo của website đó\n",
    "3. News articles: Thu thập và xử lý từng bài báo dựa vào đường dẫn của bước trước"
   ]
  },
  {
   "cell_type": "markdown",
   "metadata": {
    "id": "r7sLCnY2H7D9"
   },
   "source": [
    "### Thu thập thể loại bài báo của website: Crawling categories\n",
    "\n",
    "> **Các bước thu thập**\n",
    "\n",
    "1. Vào trang chủ của báo\n",
    "2. Thu thập các thể loại ở mục menu\n"
   ]
  },
  {
   "cell_type": "code",
   "execution_count": 16,
   "metadata": {
    "id": "hoZd2lNEH7D9"
   },
   "outputs": [],
   "source": [
    "driver = webdriver.Chrome(options=chrome_options)\n",
    "# Vào trang web chính, mặc định phải chờ toàn bộ trang webload mới xong\n",
    "driver.get(HOME_PAGE)"
   ]
  },
  {
   "cell_type": "code",
   "execution_count": 17,
   "metadata": {
    "id": "caj14hiSH7D-"
   },
   "outputs": [],
   "source": [
    "# Chọn and click menu buttons\n",
    "\n",
    "#### Choose menu button\n",
    "all_menu = driver.find_element(by=By.CLASS_NAME, value=\"icon-hamburger\")\n",
    "#### CLick on the menu button\n",
    "all_menu.click()"
   ]
  },
  {
   "cell_type": "code",
   "execution_count": 18,
   "metadata": {
    "id": "zCfvJHdhH7D-"
   },
   "outputs": [],
   "source": [
    "# Lấy hết tất cả thể loại từ đây\n",
    "cats = []\n",
    "\n",
    "#### CODE\n",
    "# row_menu = driver.find_elements(by=By.CLASS_NAME, value=\"header_submenu-content\")\n",
    "sub_menu = driver.find_element(by=By.CLASS_NAME, value=\"header_submenu-content-list\")\n",
    "\n",
    "cat_menus = sub_menu.find_elements(by=By.TAG_NAME, value=\"a\")\n",
    "\n",
    "for cat_name in cat_menus:\n",
    "    cat = cat_name.get_attribute(\"title\").strip()\n",
    "    href = cat_name.get_attribute(\"href\").strip()\n",
    "    \n",
    "    # bỏ qua logo-premium, logo-htvn\n",
    "    if cat == \"premium vietnamnet\" or cat == \"Hành trình Việt Nam\":\n",
    "        continue\n",
    "    else:\n",
    "        cats.append({\"cat_names\": cat, \"url\": href})\n",
    "####"
   ]
  },
  {
   "cell_type": "code",
   "execution_count": 19,
   "metadata": {},
   "outputs": [
    {
     "data": {
      "text/plain": [
       "([{'cat_names': 'Chính trị', 'url': 'https://vietnamnet.vn/chinh-tri'},\n",
       "  {'cat_names': 'Thời sự', 'url': 'https://vietnamnet.vn/thoi-su'},\n",
       "  {'cat_names': 'Kinh doanh', 'url': 'https://vietnamnet.vn/kinh-doanh'},\n",
       "  {'cat_names': 'Dân tộc và Tôn giáo',\n",
       "   'url': 'https://vietnamnet.vn/dan-toc-ton-giao'},\n",
       "  {'cat_names': 'Thể thao', 'url': 'https://vietnamnet.vn/the-thao'},\n",
       "  {'cat_names': 'Giáo dục', 'url': 'https://vietnamnet.vn/giao-duc'},\n",
       "  {'cat_names': 'Thế giới', 'url': 'https://vietnamnet.vn/the-gioi'},\n",
       "  {'cat_names': 'Đời sống', 'url': 'https://vietnamnet.vn/doi-song'},\n",
       "  {'cat_names': 'Văn hóa - Giải trí',\n",
       "   'url': 'https://vietnamnet.vn/van-hoa-giai-tri'},\n",
       "  {'cat_names': 'Sức khỏe', 'url': 'https://vietnamnet.vn/suc-khoe'},\n",
       "  {'cat_names': 'Công nghệ', 'url': 'https://vietnamnet.vn/cong-nghe'},\n",
       "  {'cat_names': 'Pháp luật', 'url': 'https://vietnamnet.vn/phap-luat'},\n",
       "  {'cat_names': 'Ô tô xe máy', 'url': 'https://vietnamnet.vn/oto-xe-may'},\n",
       "  {'cat_names': 'Du lịch', 'url': 'https://vietnamnet.vn/du-lich'},\n",
       "  {'cat_names': 'Bất động sản', 'url': 'https://vietnamnet.vn/bat-dong-san'},\n",
       "  {'cat_names': 'Bạn đọc', 'url': 'https://vietnamnet.vn/ban-doc'},\n",
       "  {'cat_names': 'Tuần Việt Nam', 'url': 'https://vietnamnet.vn/tuan-viet-nam'},\n",
       "  {'cat_names': 'Toàn văn',\n",
       "   'url': 'https://vietnamnet.vn/dai-hoi-dang-lan-thu-xiii/nhan-su-toan-van.html'},\n",
       "  {'cat_names': 'Công nghiệp hỗ trợ',\n",
       "   'url': 'https://vietnamnet.vn/hop-tac/cong-nghiep-ho-tro'},\n",
       "  {'cat_names': 'Bảo vệ người tiêu dùng',\n",
       "   'url': 'https://vietnamnet.vn/bao-ve-nguoi-tieu-dung'},\n",
       "  {'cat_names': 'Thị trường tiêu dùng',\n",
       "   'url': 'https://vietnamnet.vn/thi-truong-tieu-dung'},\n",
       "  {'cat_names': 'Giảm nghèo bền vững',\n",
       "   'url': 'https://giamngheobenvung.vietnamnet.vn/'},\n",
       "  {'cat_names': 'Nông thôn mới', 'url': 'https://vietnamnet.vn/nong-thon-moi'},\n",
       "  {'cat_names': 'Dân tộc thiểu số và miền núi',\n",
       "   'url': 'https://vietnamnet.vn/dan-toc-thieu-so-va-mien-nui'},\n",
       "  {'cat_names': 'Nội dung chuyên đề',\n",
       "   'url': 'https://vietnamnet.vn/noi-dung-chuyen-de'},\n",
       "  {'cat_names': 'English', 'url': 'https://vietnamnet.vn/en'},\n",
       "  {'cat_names': 'Đính chính', 'url': 'https://vietnamnet.vn/dinh-chinh'}],\n",
       " 27)"
      ]
     },
     "execution_count": 19,
     "metadata": {},
     "output_type": "execute_result"
    }
   ],
   "source": [
    "cats, len(cats)"
   ]
  },
  {
   "cell_type": "code",
   "execution_count": 20,
   "metadata": {
    "id": "Tn9hZmxOH7EA"
   },
   "outputs": [],
   "source": [
    "driver.close()"
   ]
  },
  {
   "cell_type": "markdown",
   "metadata": {
    "id": "c-hSyQ8qH7EA"
   },
   "source": [
    "### Thu thập một số đường dẫn dựa vài từng thể loại báo của website đó: News urls\n",
    "\n",
    "\n",
    "> **Cách thu thập**\n",
    "\n",
    "Từ những thể loại và đường link tương ứng, ta lần lượt vào từng thể loại và lấy đường dẫn của các bài báo trong mục đó của trang web đó.\n",
    "\n"
   ]
  },
  {
   "cell_type": "markdown",
   "metadata": {
    "id": "W5rhZD_YSVqf"
   },
   "source": [
    "#### Cài đặt thông số"
   ]
  },
  {
   "cell_type": "code",
   "execution_count": 21,
   "metadata": {
    "id": "hTfYcPKsH7EA"
   },
   "outputs": [],
   "source": [
    "# Đặt số lượng đường dẫn cần lấy trong mỗi thể loại báo\n",
    "NUM_ARTICLES_PER_CAT = 30 # có thể tăng lên\n",
    "\n",
    "# Đường dẫn lưu data của vnexpress\n",
    "DATA_URL_FILE = \"data/vietnamnet_url.json\"\n",
    "\n",
    "EXCLUDING_CATEGORIES = [\"Giảm nghèo bền vững\", \"English\", \"Toàn văn\", \"Đính chính\"] # Exclude\n",
    "\n",
    "# Bổ sung cài đặt chromedriver\n",
    "## Ta đặt load stategy ở đây là normal: https://www.selenium.dev/documentation/webdriver/drivers/options/\n",
    "chrome_options.page_load_strategy = \"normal\"\n",
    "driver = webdriver.Chrome(options=chrome_options)"
   ]
  },
  {
   "cell_type": "markdown",
   "metadata": {
    "id": "Mb9Z1ff1S5gW"
   },
   "source": [
    "#### Chạy thử nghiệm\n",
    "\n"
   ]
  },
  {
   "cell_type": "code",
   "execution_count": 22,
   "metadata": {
    "id": "IMsPluFHTDJ0"
   },
   "outputs": [],
   "source": [
    "driver = webdriver.Chrome(options=chrome_options)"
   ]
  },
  {
   "cell_type": "code",
   "execution_count": 25,
   "metadata": {},
   "outputs": [
    {
     "data": {
      "text/plain": [
       "'https://vietnamnet.vn/kinh-doanh'"
      ]
     },
     "execution_count": 25,
     "metadata": {},
     "output_type": "execute_result"
    }
   ],
   "source": [
    "cats[2]['url']"
   ]
  },
  {
   "cell_type": "code",
   "execution_count": 23,
   "metadata": {
    "id": "fdqCM6bMH7EC"
   },
   "outputs": [],
   "source": [
    "# Vào thử một url\n",
    "driver.get(cats[2]['url'])"
   ]
  },
  {
   "cell_type": "code",
   "execution_count": 26,
   "metadata": {
    "id": "-t9M01PIH7EC"
   },
   "outputs": [],
   "source": [
    "# Get all titles item\n",
    "\n",
    "#### CODE\n",
    "title_news = driver.find_elements(by=By.CLASS_NAME, value=\"vnn-title\")\n",
    "####"
   ]
  },
  {
   "cell_type": "code",
   "execution_count": 27,
   "metadata": {
    "colab": {
     "base_uri": "https://localhost:8080/",
     "height": 36
    },
    "executionInfo": {
     "elapsed": 12,
     "status": "ok",
     "timestamp": 1722169768797,
     "user": {
      "displayName": "Duc Nguyen Quang",
      "userId": "13435852976191392349"
     },
     "user_tz": -420
    },
    "id": "_za69KpdH7EC",
    "outputId": "4eff9101-3c5d-4aad-e5a5-52ae269ae381"
   },
   "outputs": [
    {
     "data": {
      "text/plain": [
       "'https://vietnamnet.vn/shb-tren-dinh-lich-su-chung-khoan-shs-dang-ky-ban-20-trieu-co-phieu-2433420.html'"
      ]
     },
     "execution_count": 27,
     "metadata": {},
     "output_type": "execute_result"
    }
   ],
   "source": [
    "# Lấy đường dẫn\n",
    "\n",
    "#### CODE\n",
    "url_new = title_news[0].find_element(by=By.TAG_NAME, value=\"a\").get_attribute(\"href\")\n",
    "url_new\n",
    "####"
   ]
  },
  {
   "cell_type": "code",
   "execution_count": 28,
   "metadata": {
    "colab": {
     "base_uri": "https://localhost:8080/",
     "height": 36
    },
    "executionInfo": {
     "elapsed": 3,
     "status": "ok",
     "timestamp": 1722169781481,
     "user": {
      "displayName": "Duc Nguyen Quang",
      "userId": "13435852976191392349"
     },
     "user_tz": -420
    },
    "id": "v3Z_9KtqH7ED",
    "outputId": "8c5d8394-efab-4faf-cc5e-e3a33585aa35"
   },
   "outputs": [
    {
     "name": "stdout",
     "output_type": "stream",
     "text": [
      "https://vietnamnet.vn/gia-vang-hom-nay-18-8-2025-sjc-can-moc-125-trieu-dong-luong-2432985.html\n"
     ]
    }
   ],
   "source": [
    "# Tìm next page\n",
    "\n",
    "#### CODE\n",
    "page_numbers = driver.find_element(by=By.CLASS_NAME, value=\"topStory-2nd\")\n",
    "\n",
    "next_page = page_numbers.find_elements(by=By.TAG_NAME, value=\"a\")\n",
    "next_page = next_page[6].get_attribute(\"href\")\n",
    "print(next_page)\n",
    "####"
   ]
  },
  {
   "cell_type": "code",
   "execution_count": 85,
   "metadata": {
    "id": "9404hQVrH7ED"
   },
   "outputs": [],
   "source": [
    "driver.close()"
   ]
  },
  {
   "cell_type": "markdown",
   "metadata": {
    "id": "UJPZsUzfS7Kr"
   },
   "source": [
    "#### Chạy thật"
   ]
  },
  {
   "cell_type": "code",
   "execution_count": 86,
   "metadata": {
    "id": "DgeLMiYNTdKo"
   },
   "outputs": [],
   "source": [
    "driver = webdriver.Chrome(options=chrome_options)"
   ]
  },
  {
   "cell_type": "code",
   "execution_count": 87,
   "metadata": {
    "id": "dX1a3Fs0H7EB"
   },
   "outputs": [],
   "source": [
    "# Global variables for filtering deduplicating urls\n",
    "crawled_urls = set()\n",
    "\n",
    "def crawl_each_category_url(driver, category_url):\n",
    "    \"\"\"\n",
    "    Functions cho lấy urls cho từng category sau khi thử nghiệm\n",
    "    \"\"\"\n",
    "    # Get all item-news class item\n",
    "    all_urls = set()\n",
    "    url = category_url\n",
    "    \n",
    "    #### CODE HERE\n",
    "    while len(all_urls) < NUM_ARTICLES_PER_CAT:\n",
    "        driver.get(url)\n",
    "        title_news = driver.find_elements(by=By.CLASS_NAME, value=\"vnn-title\")\n",
    "        for title in title_news:\n",
    "            try:\n",
    "                url_new = title.find_element(by=By.TAG_NAME, value=\"a\").get_attribute(\"href\")\n",
    "                if url_new.startswith(HOME_PAGE) and url_new not in crawled_urls:\n",
    "                    all_urls.add(url_new)\n",
    "                    crawled_urls.add(url_new)\n",
    "            \n",
    "            except StaleElementReferenceException:\n",
    "                continue\n",
    "            except NoSuchElementException:\n",
    "                print(f\"NoSuchElementException at {url}\")\n",
    "                continue\n",
    "        \n",
    "        next_pages = driver.find_element(by=By.CLASS_NAME, value=\"pagination__list\")\n",
    "        url = next_pages.find_elements(by=By.TAG_NAME, value=\"a\")[6].get_attribute(\"href\")\n",
    "    ####\n",
    "\n",
    "    return all_urls"
   ]
  },
  {
   "cell_type": "code",
   "execution_count": 92,
   "metadata": {
    "id": "Kj-XMg01H7EB"
   },
   "outputs": [
    {
     "name": "stdout",
     "output_type": "stream",
     "text": [
      "You are at {'cat_names': 'Chính trị', 'url': 'https://vietnamnet.vn/thoi-su/chinh-tri'}.\n",
      "You are at {'cat_names': 'Thời sự', 'url': 'https://vietnamnet.vn/thoi-su'}.\n",
      "You are at {'cat_names': 'Kinh doanh', 'url': 'https://vietnamnet.vn/kinh-doanh'}.\n",
      "You are at {'cat_names': 'Thể thao', 'url': 'https://vietnamnet.vn/the-thao'}.\n",
      "You are at {'cat_names': 'Thế giới', 'url': 'https://vietnamnet.vn/the-gioi'}.\n",
      "You are at {'cat_names': 'Giáo dục', 'url': 'https://vietnamnet.vn/giao-duc'}.\n",
      "You are at {'cat_names': 'Giải trí', 'url': 'https://vietnamnet.vn/giai-tri'}.\n",
      "You are at {'cat_names': 'Văn hóa', 'url': 'https://vietnamnet.vn/van-hoa'}.\n",
      "You are at {'cat_names': 'Đời sống', 'url': 'https://vietnamnet.vn/doi-song'}.\n",
      "You are at {'cat_names': 'Sức khỏe', 'url': 'https://vietnamnet.vn/suc-khoe'}.\n",
      "You are at {'cat_names': 'Thông tin và Truyền thông', 'url': 'https://vietnamnet.vn/thong-tin-truyen-thong'}.\n",
      "You are at {'cat_names': 'Pháp luật', 'url': 'https://vietnamnet.vn/phap-luat'}.\n",
      "You are at {'cat_names': 'Ô tô xe máy', 'url': 'https://vietnamnet.vn/oto-xe-may'}.\n",
      "You are at {'cat_names': 'Bất động sản', 'url': 'https://vietnamnet.vn/bat-dong-san'}.\n",
      "You are at {'cat_names': 'Du lịch', 'url': 'https://vietnamnet.vn/du-lich'}.\n",
      "You are at {'cat_names': 'Bạn đọc', 'url': 'https://vietnamnet.vn/ban-doc'}.\n",
      "You are at {'cat_names': 'Tuần Việt Nam', 'url': 'https://vietnamnet.vn/tuan-viet-nam'}.\n",
      "You are at {'cat_names': 'Công nghiệp hỗ trợ', 'url': 'https://vietnamnet.vn/hop-tac/cong-nghiep-ho-tro'}.\n",
      "You are at {'cat_names': 'Bảo vệ người tiêu dùng', 'url': 'https://vietnamnet.vn/bao-ve-nguoi-tieu-dung'}.\n",
      "You are at {'cat_names': 'Thị trường tiêu dùng', 'url': 'https://vietnamnet.vn/thi-truong-tieu-dung'}.\n",
      "You are at {'cat_names': 'Dân tộc - Tôn giáo', 'url': 'https://vietnamnet.vn/dan-toc-ton-giao'}.\n",
      "You are at {'cat_names': 'Nông thôn mới', 'url': 'https://vietnamnet.vn/nong-thon-moi'}.\n",
      "You are at {'cat_names': 'Dân tộc thiểu số và miền núi', 'url': 'https://vietnamnet.vn/dan-toc-thieu-so-va-mien-nui'}.\n",
      "You are at {'cat_names': 'Nội dung chuyên đề', 'url': 'https://vietnamnet.vn/noi-dung-chuyen-de'}.\n"
     ]
    }
   ],
   "source": [
    "saved_cats = {}\n",
    "\n",
    "# Thu thập cho từng thể loại\n",
    "for cat in cats:\n",
    "    cat_name = cat['cat_names']\n",
    "    url = cat['url']\n",
    "    if cat_name not in EXCLUDING_CATEGORIES:\n",
    "        print(f\"You are at {cat}.\")\n",
    "        urls = crawl_each_category_url(driver, url)\n",
    "        saved_cats[cat_name] = list(urls)\n",
    "\n",
    "with open(DATA_URL_FILE, \"w\", encoding=\"utf-8\") as fOut:\n",
    "    json.dump(saved_cats, fOut, ensure_ascii=False, indent=4)\n",
    "\n",
    "driver.close()"
   ]
  },
  {
   "cell_type": "code",
   "execution_count": 95,
   "metadata": {
    "id": "NSUco8wNH7EB"
   },
   "outputs": [
    {
     "data": {
      "text/plain": [
       "2180"
      ]
     },
     "execution_count": 95,
     "metadata": {},
     "output_type": "execute_result"
    }
   ],
   "source": [
    "len(crawled_urls)"
   ]
  },
  {
   "cell_type": "markdown",
   "metadata": {
    "id": "HU1_kDVZH7ED"
   },
   "source": [
    "### Thu thập và xử lý từng bài báo dựa vào đường dẫn của bước trước: News articles\n",
    "\n",
    "\n",
    "> **Cách thu thập**\n",
    "\n",
    "Từ đường dẫn ở trong phần trước, ta lần lượt vào từng đường link đó và thu thập thông tin về bài báo."
   ]
  },
  {
   "cell_type": "markdown",
   "metadata": {
    "id": "1LqfZYxYUCPa"
   },
   "source": [
    "#### Cài đặt thông số"
   ]
  },
  {
   "cell_type": "code",
   "execution_count": 29,
   "metadata": {
    "id": "oXEEqnQ-UDrz"
   },
   "outputs": [],
   "source": [
    "# Filepath cho cái trước\n",
    "FILE_URL_PATH = \"data/vietnamnet_url.json\"\n",
    "\n",
    "# Đặt limit số articles lấy từ mỗi thể loại\n",
    "MAX_ARTICLES_PER_CAT = 2 # Nếu set = None thì là tất cả các urls ở file trước\n",
    "\n",
    "# Data output, mỗi thể loại là 1 file json chứa articles\n",
    "DATA_FOLDER_OUTPUT = \"data\\\\vietnamnet\"\n",
    "\n",
    "!mkdir -p $DATA_FOLDER_OUTPUT\n",
    "\n",
    "# Để loading strategy về eager load nhanh, không quan tâm ảnh\n",
    "chrome_options.page_load_strategy = \"eager\""
   ]
  },
  {
   "cell_type": "code",
   "execution_count": null,
   "metadata": {
    "id": "14MS59FaUMd_"
   },
   "outputs": [
    {
     "ename": "FileNotFoundError",
     "evalue": "[Errno 2] No such file or directory: 'data/vietnamnet_url.json'",
     "output_type": "error",
     "traceback": [
      "\u001b[31m---------------------------------------------------------------------------\u001b[39m",
      "\u001b[31mFileNotFoundError\u001b[39m                         Traceback (most recent call last)",
      "\u001b[36mCell\u001b[39m\u001b[36m \u001b[39m\u001b[32mIn[30]\u001b[39m\u001b[32m, line 2\u001b[39m\n\u001b[32m      1\u001b[39m \u001b[38;5;66;03m# Đọc file url\u001b[39;00m\n\u001b[32m----> \u001b[39m\u001b[32m2\u001b[39m \u001b[38;5;28;01mwith\u001b[39;00m \u001b[38;5;28;43mopen\u001b[39;49m\u001b[43m(\u001b[49m\u001b[43mFILE_URL_PATH\u001b[49m\u001b[43m,\u001b[49m\u001b[43m \u001b[49m\u001b[33;43m\"\u001b[39;49m\u001b[33;43mr\u001b[39;49m\u001b[33;43m\"\u001b[39;49m\u001b[43m,\u001b[49m\u001b[43m \u001b[49m\u001b[43mencoding\u001b[49m\u001b[43m=\u001b[49m\u001b[33;43m\"\u001b[39;49m\u001b[33;43mutf-8\u001b[39;49m\u001b[33;43m\"\u001b[39;49m\u001b[43m)\u001b[49m \u001b[38;5;28;01mas\u001b[39;00m fIn:\n\u001b[32m      3\u001b[39m     url_data = json.load(fIn)\n\u001b[32m      5\u001b[39m \u001b[38;5;28mlen\u001b[39m(url_data)\n",
      "\u001b[36mFile \u001b[39m\u001b[32m/opt/anaconda3/envs/test/lib/python3.12/site-packages/IPython/core/interactiveshell.py:326\u001b[39m, in \u001b[36m_modified_open\u001b[39m\u001b[34m(file, *args, **kwargs)\u001b[39m\n\u001b[32m    319\u001b[39m \u001b[38;5;28;01mif\u001b[39;00m file \u001b[38;5;129;01min\u001b[39;00m {\u001b[32m0\u001b[39m, \u001b[32m1\u001b[39m, \u001b[32m2\u001b[39m}:\n\u001b[32m    320\u001b[39m     \u001b[38;5;28;01mraise\u001b[39;00m \u001b[38;5;167;01mValueError\u001b[39;00m(\n\u001b[32m    321\u001b[39m         \u001b[33mf\u001b[39m\u001b[33m\"\u001b[39m\u001b[33mIPython won\u001b[39m\u001b[33m'\u001b[39m\u001b[33mt let you open fd=\u001b[39m\u001b[38;5;132;01m{\u001b[39;00mfile\u001b[38;5;132;01m}\u001b[39;00m\u001b[33m by default \u001b[39m\u001b[33m\"\u001b[39m\n\u001b[32m    322\u001b[39m         \u001b[33m\"\u001b[39m\u001b[33mas it is likely to crash IPython. If you know what you are doing, \u001b[39m\u001b[33m\"\u001b[39m\n\u001b[32m    323\u001b[39m         \u001b[33m\"\u001b[39m\u001b[33myou can use builtins\u001b[39m\u001b[33m'\u001b[39m\u001b[33m open.\u001b[39m\u001b[33m\"\u001b[39m\n\u001b[32m    324\u001b[39m     )\n\u001b[32m--> \u001b[39m\u001b[32m326\u001b[39m \u001b[38;5;28;01mreturn\u001b[39;00m \u001b[43mio_open\u001b[49m\u001b[43m(\u001b[49m\u001b[43mfile\u001b[49m\u001b[43m,\u001b[49m\u001b[43m \u001b[49m\u001b[43m*\u001b[49m\u001b[43margs\u001b[49m\u001b[43m,\u001b[49m\u001b[43m \u001b[49m\u001b[43m*\u001b[49m\u001b[43m*\u001b[49m\u001b[43mkwargs\u001b[49m\u001b[43m)\u001b[49m\n",
      "\u001b[31mFileNotFoundError\u001b[39m: [Errno 2] No such file or directory: 'data/vietnamnet_url.json'"
     ]
    }
   ],
   "source": [
    "# Đọc file url\n",
    "\n",
    "with open(FILE_URL_PATH, \"r\", encoding=\"utf-8\") as fIn:\n",
    "    url_data = json.load(fIn)\n",
    "\n",
    "len(url_data)"
   ]
  },
  {
   "cell_type": "markdown",
   "metadata": {
    "id": "K3g9Xwe1H7EE"
   },
   "source": [
    "#### Chạy thử nghiệm"
   ]
  },
  {
   "cell_type": "code",
   "execution_count": 31,
   "metadata": {
    "id": "IA5bIzzVH7EE"
   },
   "outputs": [],
   "source": [
    "driver = webdriver.Chrome(options=chrome_options)\n",
    "\n",
    "# Một số url để thử nghiệm\n",
    "\n",
    "SAMPLE_ARTICLE_URLS = [\n",
    "    \"https://vietnamnet.vn/bat-giam-nguyen-thu-truong-bo-tai-nguyen-va-moi-truong-nguyen-linh-ngoc-2304574.html\",\n",
    "    \"https://vietnamnet.vn/ky-su-cong-nghe-ve-que-nuoi-oc-thu-nhe-lai-nua-ty-moi-nam-2304196.html\",\n",
    "    \"https://vietnamnet.vn/nsnd-thanh-hoa-va-nsnd-le-dung-hai-nguoi-thay-dac-biet-cua-nsut-viet-hoan-2304214.html\",\n",
    "    #author in last\n",
    "    \"https://vietnamnet.vn/doi-giay-cu-mon-giua-gia-lanh-chau-au-cua-tong-bi-thu-nguyen-phu-trong-2303988.html\",\n",
    "    #class maincontent, table ignore\n",
    "    \"https://vietnamnet.vn/lo-dien-cao-toc-dep-bac-nhat-dat-nuoc-chay-xuyen-rung-ngap-man-2303643.html\",\n",
    "]\n",
    "\n",
    "# chọn url\n",
    "SAMPLE_ARTICLE_URL = SAMPLE_ARTICLE_URLS[2]"
   ]
  },
  {
   "cell_type": "code",
   "execution_count": 32,
   "metadata": {
    "id": "bVxBEEkCH7EE"
   },
   "outputs": [],
   "source": [
    "driver.get(SAMPLE_ARTICLE_URL)"
   ]
  },
  {
   "cell_type": "code",
   "execution_count": 33,
   "metadata": {
    "id": "z2Acl33GH7EF"
   },
   "outputs": [
    {
     "data": {
      "text/plain": [
       "'Hai người thầy đặc biệt của NSƯT Việt Hoàn'"
      ]
     },
     "execution_count": 33,
     "metadata": {},
     "output_type": "execute_result"
    }
   ],
   "source": [
    "# Tìm kiếm title\n",
    "\n",
    "#### CODE HERE\n",
    "driver.find_element(by=By.CSS_SELECTOR, value=\"h1.content-detail-title\").text\n",
    "####\n"
   ]
  },
  {
   "cell_type": "code",
   "execution_count": 34,
   "metadata": {
    "id": "pzp_a40TH7EF"
   },
   "outputs": [
    {
     "data": {
      "text/plain": [
       "'Trong hành trình nghệ thuật của mình, NSƯT Việt Hoàn may mắn được chịu ảnh hưởng sâu sắc từ hai nghệ sĩ tài năng: NSND Thanh Hoa và NSND Lê Dung.'"
      ]
     },
     "execution_count": 34,
     "metadata": {},
     "output_type": "execute_result"
    }
   ],
   "source": [
    "# Tìm kiếm description\n",
    "\n",
    "#### CODE HERE\n",
    "driver.find_element(by=By.CLASS_NAME, value=\"sm-sapo-mb-0\").text\n",
    "####\n"
   ]
  },
  {
   "cell_type": "code",
   "execution_count": 39,
   "metadata": {
    "id": "8uaTkoyhVrnr"
   },
   "outputs": [
    {
     "data": {
      "text/plain": [
       "['Văn hóa - Giải trí',\n",
       " 'Chính trị',\n",
       " 'Thời sự',\n",
       " 'Kinh doanh',\n",
       " 'Dân tộc và Tôn giáo',\n",
       " 'Thể thao',\n",
       " 'Giáo dục',\n",
       " 'Thế giới',\n",
       " 'Đời sống',\n",
       " 'Văn hóa - Giải trí',\n",
       " 'Sức khỏe',\n",
       " 'Công nghệ',\n",
       " 'Pháp luật',\n",
       " 'Xe',\n",
       " 'Bất động sản',\n",
       " 'Du lịch',\n",
       " 'Bạn đọc',\n",
       " 'Thế giới sao']"
      ]
     },
     "execution_count": 39,
     "metadata": {},
     "output_type": "execute_result"
    }
   ],
   "source": [
    "# Thu thập thể loại\n",
    "\n",
    "#### CODE HERE\n",
    "lis_cat = []\n",
    "sub_cat = driver.find_element(by=By.CLASS_NAME, value=\"sm-show-time\")\n",
    "lis_cats = sub_cat.find_element(by=By.CSS_SELECTOR, value=\"ul\").find_elements(by=By.TAG_NAME, value=\"a\")\n",
    "for cat in lis_cats:\n",
    "    category = cat.get_attribute(\"title\")\n",
    "    if len(category):\n",
    "        lis_cat.append(category)\n",
    "lis_cat\n",
    "####"
   ]
  },
  {
   "cell_type": "code",
   "execution_count": 372,
   "metadata": {
    "id": "tsArBHnXVw1i"
   },
   "outputs": [
    {
     "data": {
      "text/plain": [
       "'thứ hai, 22/07/2024 - 08:16'"
      ]
     },
     "execution_count": 372,
     "metadata": {},
     "output_type": "execute_result"
    }
   ],
   "source": [
    "#Thu thập ngày\n",
    "#### CODE HERE\n",
    "publisd_date = driver.find_element(by=By.CLASS_NAME, value=\"bread-crumb-detail__time\").text\n",
    "publisd_date\n",
    "####\n"
   ]
  },
  {
   "cell_type": "code",
   "execution_count": 35,
   "metadata": {
    "id": "FM3Ayp7uH7EG"
   },
   "outputs": [],
   "source": [
    "# Tìm kiếm contents\n",
    "#### CODE HERE\n",
    "article = driver.find_element(by=By.CLASS_NAME, value=\"main-content\")\n",
    "children = article.find_elements(by=By.XPATH, value=\"./*\")\n",
    "####"
   ]
  },
  {
   "cell_type": "code",
   "execution_count": 36,
   "metadata": {
    "id": "JnNdQNNFH7EG"
   },
   "outputs": [],
   "source": [
    "# Thu thập contents\n",
    "contents = []\n",
    "author = \"Unknown\"\n",
    "is_slide_show = False\n",
    "\n",
    "for idx, child in enumerate(children):\n",
    "    text = child.text.strip()\n",
    "    if child.tag_name in [\"p\", \"h1\", \"h2\", \"h3\", \"h4\"]: # paragraph\n",
    "\n",
    "        #### CODE HERE\n",
    "        contents.append(text)\n",
    "        ####\n",
    "\n",
    "    elif child.tag_name == \"figure\" :\n",
    "        ## If length > 100  --> not a caption, it's next description\n",
    "        #### CODE HERE\n",
    "        if len(text) > 0:\n",
    "            if len(text) <= 100:\n",
    "                contents.append(f\"[{text}]\")\n",
    "            else:\n",
    "                contents.append(text)\n",
    "        ####\n",
    "\n",
    "    elif child.tag_name == \"table\": # Do nothing rightnow\n",
    "        pass"
   ]
  },
  {
   "cell_type": "code",
   "execution_count": 37,
   "metadata": {},
   "outputs": [
    {
     "data": {
      "text/plain": [
       "['Sinh năm 1966 tại Thái Bình, Việt Hoàn lớn lên trong một gia đình có truyền thống nghệ thuật cải lương. Tài năng âm nhạc của anh đã sớm bộc lộ và được ghi nhận khi chỉ ở tuổi 18, anh đã đoạt giải Nhất cuộc thi đơn ca toàn tỉnh Thái Bình năm 1985.',\n",
       " 'Sự nghiệp của Việt Hoàn là một chuỗi những thành công liên tiếp, từ việc giành được các huy chương trong các hội diễn sân khấu đến giải đặc biệt Tiếng hát làng Sen năm 1990. Năm 1997 đánh dấu bước ngoặt quan trọng khi anh thi đỗ vào khoa Thanh nhạc của Nhạc viện Hà Nội.',\n",
       " 'Trong hành trình nghệ thuật của mình, Việt Hoàn may mắn được chịu ảnh hưởng sâu sắc từ hai nghệ sĩ tài năng: NSND Thanh Hoa và NSND Lê Dung. NSND Thanh Hoa, người mà Việt Hoàn coi là tượng đài âm nhạc, đã truyền cảm hứng cho anh từ khi còn nhỏ. Việt Hoàn từng chia sẻ về những kỷ niệm đáng nhớ khi theo dõi các buổi biểu diễn của NSND Thanh Hoa, thậm chí phải \"chui qua khe hở ở nhà vệ sinh\" để được nghe chị hát khi không có tiền mua vé.',\n",
       " 'NSND Lê Dung, người thầy trực tiếp của Việt Hoàn tại Nhạc viện Hà Nội, đóng vai trò quan trọng trong việc định hình sự nghiệp của anh. Không chỉ miễn học phí, NSND Lê Dung còn hỗ trợ Việt Hoàn về mặt tài chính và tạo điều kiện cho anh có cơ hội biểu diễn tại các phòng trà. Sự hỗ trợ này đã giúp Việt Hoàn vượt qua những khó khăn ban đầu khi theo đuổi con đường âm nhạc chuyên nghiệp.',\n",
       " '[NSƯT Việt Hoàn và NSND Thanh Hoa.]',\n",
       " 'Nhờ sự dìu dắt của những người thầy tài năng, cùng với nỗ lực không ngừng của bản thân, Việt Hoàn đã gặt hái nhiều thành công. Anh đoạt Huy chương Vàng đơn ca toàn quốc năm 1998, cúp Bạc tại Liên hoan âm nhạc quốc tế ở Bình Nhưỡng năm 2004, và được phong tặng danh hiệu Nghệ sĩ Ưu tú vào năm 2006.',\n",
       " 'Được mệnh danh là \"chàng Trương Chi\" của làng nhạc đỏ Việt Nam, Việt Hoàn cùng với Đăng Dương và Trọng Tấn đã tạo nên một bộ ba nổi tiếng, làm say lòng khán giả trong suốt nhiều thập niên. Giọng ca truyền cảm của anh đã để lại dấu ấn sâu đậm qua những ca khúc như: Gửi em ở cuối sông Hồng, Chào em cô gái Lam Hồng, Thuyền và biển hay Việt Nam quê hương tôi.',\n",
       " 'Chia sẻ về tình bạn đẹp với Đăng Dương và Trọng Tấn, Việt Hoàn từng tự hào: \"Chúng tôi đến với nhau không phải với tư cách nhóm nhạc mà tình cờ khi thầy Quang Thọ cho cả ba cùng đi thi hát và được giải Vàng. Tôi trân trọng Đăng Dương và Trọng Tấn bởi cả hai đều hoạt động nghệ thuật chân chính, đời tư trong sạch\".',\n",
       " 'Sống bình yên ở nhà vườn rộng 2.000m2',\n",
       " 'Hiện nay, sau nhiều năm cống hiến cho nghệ thuật, NSƯT Việt Hoàn đã chọn cuộc sống bình yên tại một trang trại ngoại ô Hà Nội.',\n",
       " 'Anh chia sẻ muốn tạm dừng sự nghiệp nghệ thuật ở tuổi 60. Về quan điểm này, Việt Hoàn bày tỏ: \"Tôi muốn khán giả nhớ về Việt Hoàn là nhớ về một giọng hát tình cảm, đầy ắp nhiệt huyết, hình ảnh thật đẹp ở thời gian đẹp nhất\". Anh tin rằng việc biết khi nào nên dừng lại là cách để tôn trọng chính mình và công chúng.',\n",
       " 'Từ năm 45 tuổi, khi những nếp nhăn bắt đầu hằn trên trán, Việt Hoàn đã bắt đầu chuẩn bị cho ngày giã từ sân khấu. Anh đã xây dựng trang trại làm homestay, mở cửa hàng kinh doanh sơn và thực hiện series chương trình Đồi gió hát. Những hoạt động này không chỉ đảm bảo kinh tế mà còn thể hiện tình yêu của anh đối với thiên nhiên và cuộc sống dân dã.',\n",
       " 'Hiện tại, Việt Hoàn đang sống trong một nhà vườn rộng 2.000m2 ở Quốc Oai, cách trung tâm Hà Nội khoảng 30km. Cách đó 5km, anh còn sở hữu một trang trại trên đồi có diện tích hơn chục nghìn m2. Tại đây, anh tận hưởng cuộc sống gần gũi với thiên nhiên, trồng nhiều loại cây ăn trái như mít, cherry, sơ ri, chăm sóc vườn rau và nuôi nhiều loại động vật như gà, cá, chim công, chim trĩ, diều hâu lửa, vẹt, thỏ, dúi và ngỗng.',\n",
       " '[Việt Hoàn tin rằng lựa chọn cuộc sống vùng ngoại thành sẽ trở thành xu hướng.]',\n",
       " 'Việt Hoàn chia sẻ về cuộc sống hiện tại: \"Một ngày trong trang trại của tôi chủ yếu là ăn uống, tập thể dục, làm vườn, đi ngủ và mơ về những chuyến du lịch\". Anh nhấn mạnh: \"Ngoài thời gian đi hát, tôi chăm sóc, vun trồng từng nhành cây trong trang trại\". Anh tin rằng lựa chọn cuộc sống vùng ngoại thành, tránh xa khói bụi, tiếng ồn sẽ trở thành xu hướng tất yếu trong thời gian tới.',\n",
       " 'Dù không còn nhiều show diễn như các ca sĩ trẻ, Việt Hoàn vẫn hài lòng với cuộc sống hiện tại. Anh tâm sự: \"Tôi biết ơn khán giả đã cưu mang mình và tôi tự hào với nghề. Tôi đã dồn hết tâm huyết và hy sinh tất cả cho âm nhạc\". Anh cũng nhấn mạnh: \"Nghệ sĩ không phải ai cũng giàu có, không phải dòng nhạc nào cũng kiếm được nhiều tiền. Nhưng nếu chỉ nghĩ đến cát-sê thì không thể trở thành nghệ sĩ đích thực\".',\n",
       " 'Ngoài ra, Việt Hoàn còn ấp ủ dự án xây dựng viện dưỡng lão cho các nghệ sĩ neo đơn trên mảnh đất 10.000m2 mà một người bạn đã hứa cho anh sử dụng.',\n",
       " '\"Nếu tôi làm được, tôi tin rằng nhiều nghệ sĩ khó khăn, neo đơn sẽ không phải sống nhờ vào sự kêu gọi hay những buổi biểu diễn từ thiện mong khán giả phải giúp đỡ mình nữa\", anh tâm sự.',\n",
       " 'NSƯT Việt Hoàn hát “Nắng ấm quê hương”:',\n",
       " 'Ảnh: Tư liệu']"
      ]
     },
     "execution_count": 37,
     "metadata": {},
     "output_type": "execute_result"
    }
   ],
   "source": [
    "contents"
   ]
  },
  {
   "cell_type": "code",
   "execution_count": 376,
   "metadata": {
    "id": "_dWuqs77H7EG"
   },
   "outputs": [],
   "source": [
    "# Thu thập tác giả\n",
    "is_author_maybe_last = False\n",
    "authors = []\n",
    "try:\n",
    "    #### CODE HERE\n",
    "    name = driver.find_element(by=By.CLASS_NAME, value=\"article-detail-author-wrapper\")\n",
    "    author_names = name.find_elements(by=By.CLASS_NAME, value=\"name\")\n",
    "    for author_name in author_names:\n",
    "        author = author_name.find_element(by=By.CSS_SELECTOR, value=\"a\").get_attribute(\"title\")\n",
    "        authors.append(author)\n",
    "    ####\n",
    "except NoSuchElementException:\n",
    "    is_author_maybe_last = True\n",
    "\n",
    "# Nếu không tìm thấy tác giả bên đầu --> tác giả ở cuối content nếu content cuối len < 30\n",
    "if is_author_maybe_last:\n",
    "    if len(contents):\n",
    "        last_content = contents[-1]\n",
    "        if last_content.find('-') != -1 and last_content.find('-') <= 30:\n",
    "            authors = last_content[:(last_content.find('-')-1)]\n",
    "        else:\n",
    "            authors = \"Unknown\""
   ]
  },
  {
   "cell_type": "code",
   "execution_count": 377,
   "metadata": {},
   "outputs": [
    {
     "data": {
      "text/plain": [
       "['Văn Hào']"
      ]
     },
     "execution_count": 377,
     "metadata": {},
     "output_type": "execute_result"
    }
   ],
   "source": [
    "authors"
   ]
  },
  {
   "cell_type": "code",
   "execution_count": 378,
   "metadata": {
    "id": "zA29AB4sH7EG"
   },
   "outputs": [],
   "source": [
    "driver.close()"
   ]
  },
  {
   "cell_type": "markdown",
   "metadata": {
    "id": "Lw8mEYEDUwMU"
   },
   "source": [
    "#### Chạy thật"
   ]
  },
  {
   "cell_type": "code",
   "execution_count": 392,
   "metadata": {
    "id": "OckXW1P6H7ED"
   },
   "outputs": [],
   "source": [
    "def get_content_metadata(driver, article_url):\n",
    "\n",
    "    \"\"\"\n",
    "    Extracts and returns metadata and content from a given article URL.\n",
    "\n",
    "    :param driver: Selenium WebDriver instance.\n",
    "    :param article_url: URL of the article to extract data from.\n",
    "    :return: Dictionary containing article metadata and content.\n",
    "    \"\"\"\n",
    "\n",
    "    # Get to current article\n",
    "    driver.get(article_url)\n",
    "\n",
    "    # Thu thập title\n",
    "    #### CODE HERE\n",
    "    title = driver.find_element(by=By.CSS_SELECTOR, value=\"h1.content-detail-title\").text\n",
    "    ####\n",
    "\n",
    "    # Thu thập description\n",
    "    #### CODE HERE\n",
    "    description = driver.find_element(by=By.CLASS_NAME, value=\"sm-sapo-mb-0\").text\n",
    "    ####\n",
    "\n",
    "    # Thu thập thể loại\n",
    "    #### CODE HERE\n",
    "    lis_cat = []\n",
    "    sub_cat = driver.find_element(by=By.CLASS_NAME, value=\"sm-show-time\")\n",
    "    lis_cats = sub_cat.find_element(by=By.CSS_SELECTOR, value=\"ul\").find_elements(by=By.TAG_NAME, value=\"a\")\n",
    "    for cat in lis_cats:\n",
    "        category = cat.get_attribute(\"title\")\n",
    "        if len(category):\n",
    "            lis_cat.append(category)\n",
    "    \n",
    "    main_cat = lis_cat[0]\n",
    "    if len(lis_cat) > 1:\n",
    "        sub_cat = lis_cat[1]\n",
    "    else:\n",
    "        sub_cat = \"None\"\n",
    "    ####\n",
    "\n",
    "\n",
    "    # Thu thập published date\n",
    "    #### CODE HERE\n",
    "    published_date = driver.find_element(by=By.CLASS_NAME, value=\"bread-crumb-detail__time\").text\n",
    "    ####\n",
    "\n",
    "\n",
    "    # Thu thập content bài báo\n",
    "    #### CODE HERE\n",
    "    # Locate phần viết content\n",
    "    article = driver.find_element(by=By.CLASS_NAME, value=\"main-content\")\n",
    "    # Lấy hết các đầu mục con của bài báo\n",
    "    children = article.find_elements(by=By.XPATH, value=\"./*\")\n",
    "    \n",
    "    # Thu thập contents\n",
    "    contents = []\n",
    "    author = \"Unknown\"\n",
    "    is_slide_show = False\n",
    "\n",
    "    for idx, child in enumerate(children):\n",
    "        text = child.text.strip()\n",
    "        if child.tag_name in [\"p\", \"h1\", \"h2\", \"h3\", \"h4\"]: # paragraph\n",
    "\n",
    "            #### CODE HERE\n",
    "            contents.append(text)\n",
    "            ####\n",
    "\n",
    "        elif child.tag_name == \"figure\" :\n",
    "            ## If length > 100  --> not a caption, it's next description\n",
    "            #### CODE HERE\n",
    "            if len(text) > 0:\n",
    "                if len(text) <= 100:\n",
    "                    contents.append(f\"[{text}]\")\n",
    "                else:\n",
    "                    contents.append(text)\n",
    "            ####\n",
    "\n",
    "        elif child.tag_name == \"table\": # Do nothing rightnow\n",
    "            pass\n",
    "    ####\n",
    "\n",
    "    # Thu thập tác giả\n",
    "    #### CODE HERE\n",
    "    is_author_maybe_last = False\n",
    "    authors = []\n",
    "    try:\n",
    "        #### CODE HERE\n",
    "        name = driver.find_element(by=By.CLASS_NAME, value=\"article-detail-author-wrapper\")\n",
    "        author_names = name.find_elements(by=By.CLASS_NAME, value=\"name\")\n",
    "        for author_name in author_names:\n",
    "            author = author_name.find_element(by=By.CSS_SELECTOR, value=\"a\").get_attribute(\"title\")\n",
    "            authors.append(author)\n",
    "        ####\n",
    "    except NoSuchElementException:\n",
    "        is_author_maybe_last = True\n",
    "\n",
    "    # Nếu không tìm thấy tác giả bên đầu --> tác giả ở cuối content nếu content cuối len < 30\n",
    "    if is_author_maybe_last:\n",
    "        if len(contents):\n",
    "            last_content = contents[-1]\n",
    "            if last_content.find('-') != -1 and last_content.find('-') <= 30:\n",
    "                authors = last_content[:(last_content.find('-')-1)]\n",
    "            else:\n",
    "                authors = \"Unknown\"\n",
    "\n",
    "\n",
    "    return {\n",
    "        \"url\": article_url,\n",
    "        \"title\": title,\n",
    "        \"description\": description,\n",
    "        \"content\": \"\\n\".join(contents),\n",
    "        \"metadata\": {\n",
    "            \"cat\": main_cat,\n",
    "            \"subcat\": sub_cat,\n",
    "            \"published_date\": published_date,\n",
    "            \"author\": author\n",
    "        }\n",
    "    }\n"
   ]
  },
  {
   "cell_type": "code",
   "execution_count": 393,
   "metadata": {
    "id": "dGtMfw3DH7EE"
   },
   "outputs": [
    {
     "name": "stdout",
     "output_type": "stream",
     "text": [
      "Thu thập dữ liệu thể loại Chính trị ..\n",
      "Thu thập dữ liệu thể loại Thời sự ..\n",
      "Thu thập dữ liệu thể loại Kinh doanh ..\n",
      "Thu thập dữ liệu thể loại Thể thao ..\n",
      "Thu thập dữ liệu thể loại Thế giới ..\n",
      "Thu thập dữ liệu thể loại Giáo dục ..\n",
      "Thu thập dữ liệu thể loại Giải trí ..\n",
      "Bug at url: https://vietnamnet.vn/my-nhan-cao-1-72m-hoc-thac-si-kiem-tien-tu-nam-16-tuoi-thi-miss-grand-vietnam-2306665.html, with NoSuchElementException\n",
      "Thu thập dữ liệu thể loại Văn hóa ..\n",
      "Thu thập dữ liệu thể loại Đời sống ..\n",
      "Thu thập dữ liệu thể loại Sức khỏe ..\n",
      "Thu thập dữ liệu thể loại Thông tin và Truyền thông ..\n",
      "Thu thập dữ liệu thể loại Pháp luật ..\n",
      "Thu thập dữ liệu thể loại Ô tô xe máy ..\n",
      "Thu thập dữ liệu thể loại Bất động sản ..\n",
      "Thu thập dữ liệu thể loại Du lịch ..\n",
      "Thu thập dữ liệu thể loại Bạn đọc ..\n",
      "Thu thập dữ liệu thể loại Tuần Việt Nam ..\n",
      "Thu thập dữ liệu thể loại Công nghiệp hỗ trợ ..\n",
      "Thu thập dữ liệu thể loại Bảo vệ người tiêu dùng ..\n",
      "Thu thập dữ liệu thể loại Thị trường tiêu dùng ..\n",
      "Thu thập dữ liệu thể loại Dân tộc - Tôn giáo ..\n",
      "Bug at url: https://vietnamnet.vn/nong-dan-lap-trang-thong-tin-dien-tu-de-ban-cay-giup-cuoc-song-kham-kha-hon-2207021.html, with NoSuchElementException\n",
      "Thu thập dữ liệu thể loại Nông thôn mới ..\n",
      "Thu thập dữ liệu thể loại Dân tộc thiểu số và miền núi ..\n",
      "Thu thập dữ liệu thể loại Nội dung chuyên đề ..\n"
     ]
    }
   ],
   "source": [
    "driver = webdriver.Chrome(options=chrome_options)\n",
    "\n",
    "for cat, urls in url_data.items():\n",
    "\n",
    "    print(f\"Thu thập dữ liệu thể loại {cat} ..\")\n",
    "    count_crawled = 0\n",
    "    cat_data = []\n",
    "    for url in urls:\n",
    "        try:\n",
    "            cat_data.append(get_content_metadata(driver, url))\n",
    "            count_crawled += 1\n",
    "            if MAX_ARTICLES_PER_CAT and count_crawled >= MAX_ARTICLES_PER_CAT:\n",
    "                break\n",
    "\n",
    "        except (StaleElementReferenceException) as e:\n",
    "            print(f\"Bug at url: {url}, with StaleElementReferenceException\")\n",
    "            driver.refresh()\n",
    "            continue\n",
    "\n",
    "        except (NoSuchElementException) as e:\n",
    "            print(f\"Bug at url: {url}, with NoSuchElementException\")\n",
    "            driver.refresh()\n",
    "            continue\n",
    "\n",
    "    name_file_cat = cat.lower().replace(\" \", \"-\") + \".json\"\n",
    "    with open(os.path.join(DATA_FOLDER_OUTPUT, name_file_cat), \"w\", encoding=\"utf-8\") as fOut:\n",
    "        json.dump(cat_data, fOut, ensure_ascii=False, indent=4)\n",
    "\n",
    "driver.close()\n",
    "\n",
    "# Bug will be emagazines and videos, we ignore them as well"
   ]
  },
  {
   "cell_type": "code",
   "execution_count": 394,
   "metadata": {
    "id": "ROTzZ53GX8ln"
   },
   "outputs": [
    {
     "data": {
      "text/plain": [
       "{'url': 'https://vietnamnet.vn/bac-lieu-phat-huy-quyen-lam-chu-cua-nguoi-dan-trong-xay-dung-nong-thon-moi-2305220.html',\n",
       " 'title': 'Bạc Liêu: Phát huy quyền làm chủ của người dân trong xây dựng nông thôn mới',\n",
       " 'description': 'Tỉnh Bạc Liêu luôn chú trọng phát huy quyền làm chủ của nhân dân, lấy ý kiến về sự hài lòng của người dân làm thước đo trong xây dựng nông thôn mới.',\n",
       " 'content': 'Với phương châm xây dựng nông thôn mới nâng cao, nông thôn mới kiểu mẫu phải đảm bảo thực chất, không chạy theo thành tích, tỉnh Bạc Liêu luôn chú trọng phát huy quyền làm chủ của nhân dân, lấy ý kiến về sự hài lòng của người dân làm thước đo trong xây dựng nông thôn mới.\\nTheo đó, Ban Thường trực Ủy ban Mặt trận Tổ quốc Việt Nam các huyện, thị xã, thành phố trong tỉnh đã chủ trì, phối hợp với các tổ chức chính trị - xã hội, các xã để tiến hành phát phiếu lấy ý kiến sự hài lòng của người dân trên địa bàn về kết quả xây dựng xã đạt chuẩn nông thôn mới nâng cao, nông thôn mới kiểu mẫu.\\nThông qua việc lấy ý kiến người dân, Mặt trận Tổ quốc các cấp không chỉ thực hiện tốt nhiệm vụ giám sát mà còn góp phần quan trọng phát huy vai trò chủ thể của nhân dân trong xây dựng nông thôn mới.\\n[Tham quan mô hình kinh tế giỏi của một người dân Bạc Liêu.]\\nĐể việc lấy ý kiến đảm bảo khách quan, chính xác, thực chất, Ban Thường trực Ủy ban Mặt trận Tổ quốc Việt Nam các cấp đã thành lập tổ công tác, tổ chức hội nghị để thống nhất chủ trương, cách làm và phân công nhiệm vụ cụ thể cho từng thành viên. Đồng thời phối hợp với chính quyền địa phương kiểm tra, giám sát, hướng dẫn cũng như xử lý những vướng mắc trong quá trình triển khai ở các xã và từng hộ gia đình.\\nThực tế cho thấy, ý kiến hài lòng của người dân chiếm tỷ lệ rất cao. Những ý kiến đóng góp về những vấn đề chưa hài lòng được Ủy ban Mặt trận Tổ quốc Việt Nam các cấp trong tỉnh tiếp thu và gửi đến địa phương để khắc phục ngay.\\nVí dụ như xã Vĩnh Trạch, TP Bạc Liêu, sau khi lấy ý kiến của người dân công nhận xã đạt chuẩn nông thôn mới kiểu mẫu về giáo dục, bên cạnh phần lớn ý kiến đồng tình thì có một số ý kiến đóng góp về những tuyến đường xuống cấp làm ảnh hưởng việc đi lại của nhân dân. Một số hộ dân chưa thực hiện tốt phong trào làm hàng rào cây xanh, trồng hoa, cây cảnh trước nhà. Ý thức một số hộ dân còn kém nên vứt rác không đúng quy định. Tình hình tệ nạn xã hội đôi lúc còn xảy ra; chưa lắp camera an ninh trên các tuyến đường…\\nVới những nội dung người dân chưa hài lòng, Ban Thường trực Ủy ban Mặt trận Tổ quốc Việt Nam các cấp cùng với chính quyền địa phương nắm bắt tâm tư, nguyện vọng của nhân dân để phân tích nguyên nhân. Qua đó kiến nghị Ban Chỉ đạo Chương trình mục tiêu quốc gia xây dựng nông thôn mới các huyện, thị, thành phố và các sở, ngành có liên quan của tỉnh có giải pháp hỗ trợ địa phương khắc phục và thực hiện tốt hơn.\\nPhó Chủ tịch Ủy ban Mặt trận Tổ quốc Việt Nam tỉnh Bạc Liêu - Trần Doãn Cầm chia sẻ, là thước đo xây dựng nông thôn mới nâng cao, nông thôn mới kiểu mẫu, các ý kiến hài lòng và chưa hài lòng của người dân được tổng hợp để đảm bảo tính khách quan, bền vững, hiệu quả và sự đồng thuận cao của người dân trong xây dựng nông thôn mới nâng cao, nông thôn mới kiểu mẫu ở các địa phương.\\nBan Thường trực Ủy ban Mặt trận Tổ quốc Việt Nam tỉnh đã đề nghị các xã thuộc huyện, thị, thành phố nghiêm túc tiếp thu và rà soát, kiểm tra các nội dung ý kiến chưa hài lòng của người dân được lấy ý kiến và có hướng xử lý hiệu quả.',\n",
       " 'metadata': {'cat': 'Nội dung chuyên đề',\n",
       "  'subcat': 'None',\n",
       "  'published_date': 'thứ năm, 18/07/2024 - 15:41',\n",
       "  'author': 'Unknown'}}"
      ]
     },
     "execution_count": 394,
     "metadata": {},
     "output_type": "execute_result"
    }
   ],
   "source": [
    "# Xem 1 sample\n",
    "cat_data[-1]"
   ]
  },
  {
   "cell_type": "markdown",
   "metadata": {
    "id": "fJJ0nyIrBfVl"
   },
   "source": [
    "## Lưu dữ liệu\n",
    "\n",
    "Nếu bạn chạy ở máy cá nhân thì không cần, nhưng nếu mà chạy ở Colab thì nên lưu dữ liệu vào trong Google Drive\n"
   ]
  },
  {
   "cell_type": "code",
   "execution_count": null,
   "metadata": {
    "colab": {
     "base_uri": "https://localhost:8080/"
    },
    "executionInfo": {
     "elapsed": 3012,
     "status": "ok",
     "timestamp": 1722171513486,
     "user": {
      "displayName": "Duc Nguyen Quang",
      "userId": "13435852976191392349"
     },
     "user_tz": -420
    },
    "id": "BaOtPsXgBvlh",
    "outputId": "4c0e04bb-8478-464b-990d-704d89dd8adf"
   },
   "outputs": [
    {
     "name": "stdout",
     "output_type": "stream",
     "text": [
      "Drive already mounted at /content/drive; to attempt to forcibly remount, call drive.mount(\"/content/drive\", force_remount=True).\n"
     ]
    }
   ],
   "source": [
    "# For Google Colab\n",
    "from google.colab import drive\n",
    "drive.mount('/content/drive')"
   ]
  },
  {
   "cell_type": "code",
   "execution_count": null,
   "metadata": {
    "id": "kg7zi2KICBn8"
   },
   "outputs": [],
   "source": [
    "# Set to your folder\n",
    "FOLDER_SAVED_GOOGLE_COLAB = \"/content/drive/MyDrive/crawl-news/\"\n",
    "\n",
    "# Copy\n",
    "!cp -r data $FOLDER_SAVED_GOOGLE_COLAB"
   ]
  }
 ],
 "metadata": {
  "colab": {
   "provenance": [],
   "toc_visible": true
  },
  "kernelspec": {
   "display_name": "test",
   "language": "python",
   "name": "python3"
  },
  "language_info": {
   "codemirror_mode": {
    "name": "ipython",
    "version": 3
   },
   "file_extension": ".py",
   "mimetype": "text/x-python",
   "name": "python",
   "nbconvert_exporter": "python",
   "pygments_lexer": "ipython3",
   "version": "3.12.9"
  }
 },
 "nbformat": 4,
 "nbformat_minor": 0
}
