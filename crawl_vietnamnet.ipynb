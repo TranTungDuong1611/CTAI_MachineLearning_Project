{
 "cells": [
  {
   "cell_type": "markdown",
   "id": "8b74e1ca",
   "metadata": {},
   "source": [
    "# Chuẩn bị thư viện"
   ]
  },
  {
   "cell_type": "code",
   "execution_count": 1,
   "id": "c502c7db",
   "metadata": {},
   "outputs": [
    {
     "name": "stdout",
     "output_type": "stream",
     "text": [
      "Requirement already satisfied: selenium in /Library/Frameworks/Python.framework/Versions/3.13/lib/python3.13/site-packages (4.35.0)\n",
      "Requirement already satisfied: urllib3<3.0,>=2.5.0 in /Library/Frameworks/Python.framework/Versions/3.13/lib/python3.13/site-packages (from urllib3[socks]<3.0,>=2.5.0->selenium) (2.5.0)\n",
      "Requirement already satisfied: trio~=0.30.0 in /Library/Frameworks/Python.framework/Versions/3.13/lib/python3.13/site-packages (from selenium) (0.30.0)\n",
      "Requirement already satisfied: trio-websocket~=0.12.2 in /Library/Frameworks/Python.framework/Versions/3.13/lib/python3.13/site-packages (from selenium) (0.12.2)\n",
      "Requirement already satisfied: certifi>=2025.6.15 in /Library/Frameworks/Python.framework/Versions/3.13/lib/python3.13/site-packages (from selenium) (2025.8.3)\n",
      "Requirement already satisfied: typing_extensions~=4.14.0 in /Library/Frameworks/Python.framework/Versions/3.13/lib/python3.13/site-packages (from selenium) (4.14.1)\n",
      "Requirement already satisfied: websocket-client~=1.8.0 in /Library/Frameworks/Python.framework/Versions/3.13/lib/python3.13/site-packages (from selenium) (1.8.0)\n",
      "Requirement already satisfied: attrs>=23.2.0 in /Library/Frameworks/Python.framework/Versions/3.13/lib/python3.13/site-packages (from trio~=0.30.0->selenium) (25.3.0)\n",
      "Requirement already satisfied: sortedcontainers in /Library/Frameworks/Python.framework/Versions/3.13/lib/python3.13/site-packages (from trio~=0.30.0->selenium) (2.4.0)\n",
      "Requirement already satisfied: idna in /Library/Frameworks/Python.framework/Versions/3.13/lib/python3.13/site-packages (from trio~=0.30.0->selenium) (3.10)\n",
      "Requirement already satisfied: outcome in /Library/Frameworks/Python.framework/Versions/3.13/lib/python3.13/site-packages (from trio~=0.30.0->selenium) (1.3.0.post0)\n",
      "Requirement already satisfied: sniffio>=1.3.0 in /Library/Frameworks/Python.framework/Versions/3.13/lib/python3.13/site-packages (from trio~=0.30.0->selenium) (1.3.1)\n",
      "Requirement already satisfied: wsproto>=0.14 in /Library/Frameworks/Python.framework/Versions/3.13/lib/python3.13/site-packages (from trio-websocket~=0.12.2->selenium) (1.2.0)\n",
      "Requirement already satisfied: pysocks!=1.5.7,<2.0,>=1.5.6 in /Library/Frameworks/Python.framework/Versions/3.13/lib/python3.13/site-packages (from urllib3[socks]<3.0,>=2.5.0->selenium) (1.7.1)\n",
      "Requirement already satisfied: h11<1,>=0.9.0 in /Library/Frameworks/Python.framework/Versions/3.13/lib/python3.13/site-packages (from wsproto>=0.14->trio-websocket~=0.12.2->selenium) (0.16.0)\n",
      "\n",
      "\u001b[1m[\u001b[0m\u001b[34;49mnotice\u001b[0m\u001b[1;39;49m]\u001b[0m\u001b[39;49m A new release of pip is available: \u001b[0m\u001b[31;49m25.0.1\u001b[0m\u001b[39;49m -> \u001b[0m\u001b[32;49m25.2\u001b[0m\n",
      "\u001b[1m[\u001b[0m\u001b[34;49mnotice\u001b[0m\u001b[1;39;49m]\u001b[0m\u001b[39;49m To update, run: \u001b[0m\u001b[32;49mpip3 install --upgrade pip\u001b[0m\n"
     ]
    }
   ],
   "source": [
    "!pip3 install selenium\n",
    "!mkdir -p data\n",
    "from selenium import webdriver\n",
    "from selenium.webdriver.chrome.service import Service\n",
    "from selenium.webdriver.common.by import By\n",
    "from selenium.common.exceptions import StaleElementReferenceException, NoSuchElementException\n",
    "import os\n",
    "import json"
   ]
  },
  {
   "cell_type": "code",
   "execution_count": 2,
   "id": "ca730e01",
   "metadata": {},
   "outputs": [],
   "source": [
    "# selenium setups\n",
    "## https://www.tutorialspoint.com/selenium/selenium_webdriver_chrome_webdriver_options.htm\n",
    "\n",
    "chrome_options = webdriver.ChromeOptions()\n",
    "\n",
    "# chrome_options.add_argument('--headless') # must options for Google Colab\n",
    "chrome_options.add_argument('--no-sandbox')\n",
    "chrome_options.add_argument('--disable-dev-shm-usage')\n",
    "chrome_options.add_argument(\"--disable-extensions\")\n",
    "chrome_options.add_argument(\"--disable-gpu\")\n"
   ]
  },
  {
   "cell_type": "code",
   "execution_count": 3,
   "id": "8f6090f7",
   "metadata": {},
   "outputs": [],
   "source": [
    "MAGAZINE_NAME = \"vietnamnet\"\n",
    "HOME_PAGE = \"https://vietnamnet.vn/\""
   ]
  },
  {
   "cell_type": "markdown",
   "id": "2a524291",
   "metadata": {},
   "source": [
    "# Thu thập dữ liệu"
   ]
  },
  {
   "cell_type": "code",
   "execution_count": 4,
   "id": "b43ac99d",
   "metadata": {},
   "outputs": [],
   "source": [
    "driver = webdriver.Chrome(options=chrome_options)\n",
    "# Vào trang web chính, mặc định phải chờ toàn bộ trang webload mới xong\n",
    "driver.get(HOME_PAGE)"
   ]
  },
  {
   "cell_type": "code",
   "execution_count": 5,
   "id": "c407fce0",
   "metadata": {},
   "outputs": [],
   "source": [
    "# Lấy hết tất cả thể loại từ đây\n",
    "cats = []\n",
    "\n",
    "#### CODE\n",
    "# row_menu = driver.find_elements(by=By.CLASS_NAME, value=\"header_submenu-content\")\n",
    "sub_menu = driver.find_element(by=By.CLASS_NAME, value=\"header_submenu-content-list\")\n",
    "\n",
    "cat_menus = sub_menu.find_elements(by=By.TAG_NAME, value=\"a\")\n",
    "\n",
    "for cat_name in cat_menus:\n",
    "    cat = cat_name.get_attribute(\"title\").strip()\n",
    "    href = cat_name.get_attribute(\"href\").strip()\n",
    "    \n",
    "    # bỏ qua logo-premium, logo-htvn\n",
    "    if cat == \"premium vietnamnet\" or cat == \"Hành trình Việt Nam\":\n",
    "        continue\n",
    "    else:\n",
    "        cats.append({\"cat_names\": cat, \"url\": href})\n",
    "####"
   ]
  },
  {
   "cell_type": "code",
   "execution_count": 6,
   "id": "9ac3f218",
   "metadata": {},
   "outputs": [
    {
     "data": {
      "text/plain": [
       "([{'cat_names': 'Chính trị', 'url': 'https://vietnamnet.vn/chinh-tri'},\n",
       "  {'cat_names': 'Thời sự', 'url': 'https://vietnamnet.vn/thoi-su'},\n",
       "  {'cat_names': 'Kinh doanh', 'url': 'https://vietnamnet.vn/kinh-doanh'},\n",
       "  {'cat_names': 'Dân tộc và Tôn giáo',\n",
       "   'url': 'https://vietnamnet.vn/dan-toc-ton-giao'},\n",
       "  {'cat_names': 'Thể thao', 'url': 'https://vietnamnet.vn/the-thao'},\n",
       "  {'cat_names': 'Giáo dục', 'url': 'https://vietnamnet.vn/giao-duc'},\n",
       "  {'cat_names': 'Thế giới', 'url': 'https://vietnamnet.vn/the-gioi'},\n",
       "  {'cat_names': 'Đời sống', 'url': 'https://vietnamnet.vn/doi-song'},\n",
       "  {'cat_names': 'Văn hóa - Giải trí',\n",
       "   'url': 'https://vietnamnet.vn/van-hoa-giai-tri'},\n",
       "  {'cat_names': 'Sức khỏe', 'url': 'https://vietnamnet.vn/suc-khoe'},\n",
       "  {'cat_names': 'Công nghệ', 'url': 'https://vietnamnet.vn/cong-nghe'},\n",
       "  {'cat_names': 'Pháp luật', 'url': 'https://vietnamnet.vn/phap-luat'},\n",
       "  {'cat_names': 'Ô tô xe máy', 'url': 'https://vietnamnet.vn/oto-xe-may'},\n",
       "  {'cat_names': 'Du lịch', 'url': 'https://vietnamnet.vn/du-lich'},\n",
       "  {'cat_names': 'Bất động sản', 'url': 'https://vietnamnet.vn/bat-dong-san'},\n",
       "  {'cat_names': 'Bạn đọc', 'url': 'https://vietnamnet.vn/ban-doc'},\n",
       "  {'cat_names': 'Tuần Việt Nam', 'url': 'https://vietnamnet.vn/tuan-viet-nam'},\n",
       "  {'cat_names': 'Toàn văn',\n",
       "   'url': 'https://vietnamnet.vn/dai-hoi-dang-lan-thu-xiii/nhan-su-toan-van.html'},\n",
       "  {'cat_names': 'Công nghiệp hỗ trợ',\n",
       "   'url': 'https://vietnamnet.vn/hop-tac/cong-nghiep-ho-tro'},\n",
       "  {'cat_names': 'Bảo vệ người tiêu dùng',\n",
       "   'url': 'https://vietnamnet.vn/bao-ve-nguoi-tieu-dung'},\n",
       "  {'cat_names': 'Thị trường tiêu dùng',\n",
       "   'url': 'https://vietnamnet.vn/thi-truong-tieu-dung'},\n",
       "  {'cat_names': 'Giảm nghèo bền vững',\n",
       "   'url': 'https://giamngheobenvung.vietnamnet.vn/'},\n",
       "  {'cat_names': 'Nông thôn mới', 'url': 'https://vietnamnet.vn/nong-thon-moi'},\n",
       "  {'cat_names': 'Dân tộc thiểu số và miền núi',\n",
       "   'url': 'https://vietnamnet.vn/dan-toc-thieu-so-va-mien-nui'},\n",
       "  {'cat_names': 'Nội dung chuyên đề',\n",
       "   'url': 'https://vietnamnet.vn/noi-dung-chuyen-de'},\n",
       "  {'cat_names': 'English', 'url': 'https://vietnamnet.vn/en'},\n",
       "  {'cat_names': 'Đính chính', 'url': 'https://vietnamnet.vn/dinh-chinh'}],\n",
       " 27)"
      ]
     },
     "execution_count": 6,
     "metadata": {},
     "output_type": "execute_result"
    }
   ],
   "source": [
    "cats, len(cats)"
   ]
  },
  {
   "cell_type": "code",
   "execution_count": 7,
   "id": "84f90aa3",
   "metadata": {},
   "outputs": [
    {
     "name": "stdout",
     "output_type": "stream",
     "text": [
      "11\n",
      "{'cat_names': 'Chính trị', 'url': 'https://vietnamnet.vn/chinh-tri'}\n",
      "{'cat_names': 'Thời sự', 'url': 'https://vietnamnet.vn/thoi-su'}\n",
      "{'cat_names': 'Kinh doanh', 'url': 'https://vietnamnet.vn/kinh-doanh'}\n",
      "{'cat_names': 'Thể thao', 'url': 'https://vietnamnet.vn/the-thao'}\n",
      "{'cat_names': 'Giáo dục', 'url': 'https://vietnamnet.vn/giao-duc'}\n",
      "{'cat_names': 'Thế giới', 'url': 'https://vietnamnet.vn/the-gioi'}\n",
      "{'cat_names': 'Văn hóa - Giải trí', 'url': 'https://vietnamnet.vn/van-hoa-giai-tri'}\n",
      "{'cat_names': 'Sức khỏe', 'url': 'https://vietnamnet.vn/suc-khoe'}\n",
      "{'cat_names': 'Công nghệ', 'url': 'https://vietnamnet.vn/cong-nghe'}\n",
      "{'cat_names': 'Pháp luật', 'url': 'https://vietnamnet.vn/phap-luat'}\n",
      "{'cat_names': 'Du lịch', 'url': 'https://vietnamnet.vn/du-lich'}\n"
     ]
    }
   ],
   "source": [
    "TARGET_CATS = [\n",
    "    \"Chính trị\",\n",
    "    \"Thời sự\",\n",
    "    \"Kinh doanh\",\n",
    "    \"Văn hóa - Giải trí\",\n",
    "    \"Sức khỏe\",\n",
    "    \"Pháp luật\",\n",
    "    \"Thế giới\",\n",
    "    \"Công nghệ\",\n",
    "    \"Thể thao\",\n",
    "    \"Du lịch\",\n",
    "    \"Giáo dục\"\n",
    "]\n",
    "\n",
    "filtered_cats = [c for c in cats if c['cat_names'] in TARGET_CATS]\n",
    "\n",
    "print(len(filtered_cats))\n",
    "for c in filtered_cats:\n",
    "    print(c)\n"
   ]
  },
  {
   "cell_type": "markdown",
   "id": "e60a3ec8",
   "metadata": {},
   "source": [
    "# Thu thập URL bài báo"
   ]
  },
  {
   "cell_type": "code",
   "execution_count": 8,
   "id": "65037683",
   "metadata": {},
   "outputs": [],
   "source": [
    "NUM_ARTICLES_PER_CAT = 10 # có thể tăng lên\n",
    "\n",
    "DATA_URL_FILE = \"data/vietnamnet_url.json\"\n",
    "\n",
    "# Bổ sung cài đặt chromedriver\n",
    "## Ta đặt load stategy ở đây là normal: https://www.selenium.dev/documentation/webdriver/drivers/options/\n",
    "chrome_options.page_load_strategy = \"normal\"\n",
    "driver = webdriver.Chrome(options=chrome_options)"
   ]
  },
  {
   "cell_type": "markdown",
   "id": "568ae3c4",
   "metadata": {},
   "source": [
    "## Thử nghiệm"
   ]
  },
  {
   "cell_type": "code",
   "execution_count": 32,
   "id": "81f723c5",
   "metadata": {},
   "outputs": [],
   "source": [
    "driver = webdriver.Chrome(options=chrome_options)"
   ]
  },
  {
   "cell_type": "code",
   "execution_count": 33,
   "id": "0acea722",
   "metadata": {},
   "outputs": [
    {
     "data": {
      "text/plain": [
       "'https://vietnamnet.vn/thoi-su'"
      ]
     },
     "execution_count": 33,
     "metadata": {},
     "output_type": "execute_result"
    }
   ],
   "source": [
    "filtered_cats[1]['url']"
   ]
  },
  {
   "cell_type": "code",
   "execution_count": 34,
   "id": "a9e3078e",
   "metadata": {},
   "outputs": [],
   "source": [
    "driver.get(filtered_cats[1]['url'])"
   ]
  },
  {
   "cell_type": "code",
   "execution_count": 35,
   "id": "05348a50",
   "metadata": {},
   "outputs": [
    {
     "name": "stdout",
     "output_type": "stream",
     "text": [
      "Màn đối đáp 'cực gắt' khiến kẻ giả danh cán bộ thuế nghẹn ngào thú tội\n"
     ]
    }
   ],
   "source": [
    "title_news = driver.find_elements(by=By.CLASS_NAME, value=\"vnn-title\")\n",
    "print(title_news[0].text)"
   ]
  },
  {
   "cell_type": "code",
   "execution_count": 36,
   "id": "70871bba",
   "metadata": {},
   "outputs": [
    {
     "name": "stdout",
     "output_type": "stream",
     "text": [
      "https://vietnamnet.vn/man-doi-dap-cuc-gat-khien-ke-gia-danh-can-bo-thue-nghen-ngao-thu-toi-2433305.html\n"
     ]
    }
   ],
   "source": [
    "url_new = title_news[0].find_element(by=By.TAG_NAME, value=\"a\").get_attribute(\"href\")\n",
    "print(url_new)"
   ]
  },
  {
   "cell_type": "code",
   "execution_count": 38,
   "id": "fffe17ec",
   "metadata": {},
   "outputs": [
    {
     "name": "stdout",
     "output_type": "stream",
     "text": [
      "https://vietnamnet.vn/du-bao-thoi-tiet-20-8-2025-mien-bac-nang-den-34-do-van-xuat-hien-mua-to-cuc-bo-2433768.html\n"
     ]
    }
   ],
   "source": [
    "# Tìm layout thứ 2 của trang web\n",
    "\n",
    "#### CODE\n",
    "page_numbers = driver.find_element(by=By.CLASS_NAME, value=\"topStory-2nd\")\n",
    "next_page = page_numbers.find_elements(by=By.TAG_NAME, value=\"a\")\n",
    "# print(len(next_page))\n",
    "# print(next_page[0].get_attribute(\"href\"))\n",
    "# print(next_page[1].get_attribute(\"href\"))\n",
    "# print(next_page[2].get_attribute(\"href\"))\n",
    "# print(next_page[3].get_attribute(\"href\"))\n",
    "# print(next_page[4].get_attribute(\"href\"))\n",
    "# print(next_page[5].get_attribute(\"href\"))\n",
    "next_page = next_page[3].get_attribute(\"href\")\n",
    "print(next_page)"
   ]
  },
  {
   "cell_type": "code",
   "execution_count": 39,
   "id": "b94135fd",
   "metadata": {},
   "outputs": [],
   "source": [
    "driver.close()"
   ]
  },
  {
   "cell_type": "markdown",
   "id": "3b2f1913",
   "metadata": {},
   "source": [
    "## Chạy thật"
   ]
  },
  {
   "cell_type": "code",
   "execution_count": 19,
   "id": "18dfaa42",
   "metadata": {},
   "outputs": [],
   "source": [
    "driver = webdriver.Chrome(options=chrome_options)"
   ]
  },
  {
   "cell_type": "code",
   "execution_count": 20,
   "id": "3ada14fd",
   "metadata": {},
   "outputs": [],
   "source": [
    "NUM_ARTICLES_PER_CAT = 3\n",
    "crawled_urls = set()\n",
    "\n",
    "def get_avatar_url_by_article_url(driver, article_url):\n",
    "    try:\n",
    "        avatar_divs = driver.find_elements(by=By.CLASS_NAME, value=\"verticalPost__avt\")\n",
    "        \n",
    "        for avatar_div in avatar_divs:\n",
    "            try:\n",
    "                link_element = avatar_div.find_element(by=By.TAG_NAME, value=\"a\")\n",
    "                href = link_element.get_attribute(\"href\")\n",
    "                \n",
    "                # Nếu href match với article_url (có thể là relative hoặc absolute)\n",
    "                if href and (href == article_url or article_url.endswith(href) or href in article_url):\n",
    "                    img_element = avatar_div.find_element(by=By.TAG_NAME, value=\"img\")\n",
    "                    print(f\"Found avatar for {article_url}: {img_element.get_attribute('src')}\")\n",
    "                    return img_element.get_attribute(\"src\")\n",
    "                \n",
    "            except NoSuchElementException:\n",
    "                continue\n",
    "        \n",
    "        return None\n",
    "    except Exception as e:\n",
    "        print(f\"Error getting avatar for {article_url}: {e}\")\n",
    "        return None\n",
    "\n",
    "def crawl_each_category_url(driver, category_url):\n",
    "    all_data = []\n",
    "    url = category_url\n",
    "    \n",
    "    while len(all_data) < NUM_ARTICLES_PER_CAT:\n",
    "        driver.get(url)\n",
    "        title_news = driver.find_elements(by=By.CLASS_NAME, value=\"vnn-title\")\n",
    "        \n",
    "        for title in title_news:\n",
    "            try:\n",
    "                url_new = title.find_element(by=By.TAG_NAME, value=\"a\").get_attribute(\"href\")\n",
    "                if url_new.startswith(HOME_PAGE) and url_new not in crawled_urls:\n",
    "                    avatar_url = get_avatar_url_by_article_url(driver, url_new)\n",
    "                    \n",
    "                    article_data = {\n",
    "                        \"url\": url_new,\n",
    "                        \"url_img\": avatar_url\n",
    "                    }\n",
    "                    \n",
    "                    all_data.append(article_data)\n",
    "                    crawled_urls.add(url_new)\n",
    "\n",
    "                    if len(all_data) >= NUM_ARTICLES_PER_CAT:\n",
    "                        break\n",
    "                        \n",
    "            except (StaleElementReferenceException, NoSuchElementException):\n",
    "                continue\n",
    "\n",
    "            except Exception as e:\n",
    "                print(f\"Error processing article: {e}\")\n",
    "        \n",
    "        if len(all_data) >= NUM_ARTICLES_PER_CAT:\n",
    "            break\n",
    "        \n",
    "        try:\n",
    "            next_pages = driver.find_element(by=By.CLASS_NAME, value=\"pagination__list\")\n",
    "            url = next_pages.find_elements(by=By.TAG_NAME, value=\"a\")[6].get_attribute(\"href\")\n",
    "        except (NoSuchElementException, IndexError):\n",
    "            print(\"Cannot find next page, stopping crawl for this category\")\n",
    "            break\n",
    "    \n",
    "    return all_data\n",
    "\n",
    "    "
   ]
  },
  {
   "cell_type": "code",
   "execution_count": 21,
   "id": "a2a1e865",
   "metadata": {},
   "outputs": [
    {
     "name": "stdout",
     "output_type": "stream",
     "text": [
      "You are at {'cat_names': 'Chính trị', 'url': 'https://vietnamnet.vn/chinh-tri'}.\n",
      "Found avatar for https://vietnamnet.vn/bo-quoc-phong-de-xuat-thanh-lap-ban-chi-dao-phong-khong-nhan-dan-trung-uong-2433796.html: https://static-images.vnncdn.net/vps_images_publish/000001/000003/2025/8/19/bo-quoc-phong-de-xuat-thanh-lap-ban-chi-dao-phong-khong-nhan-dan-trung-uong-4199.jpg?width=550&s=lTCQ8imV0ar-QpJvYBrflA\n",
      "Found avatar for https://vietnamnet.vn/phu-nhan-chu-tich-nuoc-va-hoang-hau-bhutan-van-canh-chua-tran-quoc-duoi-mua-2433621.html: https://static-images.vnncdn.net/vps_images_publish/000001/000003/2025/8/19/phu-nhan-chu-tich-nuoc-va-hoang-hau-bhutan-van-canh-chua-tran-quoc-duoi-mua-dau-thu-2104.jpg?width=360&s=UyWw2dLkheZzTlxi1UnNTg\n",
      "Found avatar for https://vietnamnet.vn/xa-mien-nui-thanh-hoa-kho-khan-ve-nhan-su-can-bo-lam-viec-den-tan-khuya-2431628.html: https://static-images.vnncdn.net/vps_images_publish/000001/000003/2025/8/19/xa-mien-nui-thanh-hoa-thieu-nhan-su-can-bo-lam-viec-den-tan-khuya-4296.jpg?width=360&s=elauBM0bwBJexRIYaVGglw\n",
      "You are at {'cat_names': 'Thời sự', 'url': 'https://vietnamnet.vn/thoi-su'}.\n",
      "Found avatar for https://vietnamnet.vn/man-doi-dap-cuc-gat-khien-ke-gia-danh-can-bo-thue-nghen-ngao-thu-toi-2433305.html: https://static-images.vnncdn.net/vps_images_publish/000001/000003/2025/8/19/man-doi-dap-cuc-gat-khien-ke-gia-danh-can-bo-thue-nghen-ngao-thu-toi-1546.gif?width=550&s=o2b7BQcMjEroZaFOnitZTw\n",
      "Found avatar for https://vietnamnet.vn/nguy-co-rinh-rap-tu-diem-den-loi-di-tu-mo-qua-duong-sat-o-ninh-binh-2432916.html: https://static-images.vnncdn.net/vps_images_publish/000001/000003/2025/8/17/hanh-dong-lieu-linh-cua-nguoi-dan-ninh-binh-khi-song-gan-duong-ray-tau-hoa-998.jpg?width=360&s=Xo-IcBTRm58t6H6s-S8iPg\n",
      "Found avatar for https://vietnamnet.vn/du-bao-thoi-tiet-20-8-2025-mien-bac-nang-den-34-do-van-xuat-hien-mua-to-cuc-bo-2433768.html: https://static-images.vnncdn.net/vps_images_publish/000001/000003/2025/8/20/2025-mien-bac-nang-den-34-do-van-xuat-hien-mua-to-cuc-bo-255.jpg?width=360&s=R4M4D3fBLPTkOTsLldQ3mA\n",
      "You are at {'cat_names': 'Kinh doanh', 'url': 'https://vietnamnet.vn/kinh-doanh'}.\n",
      "Found avatar for https://vietnamnet.vn/ong-lon-viet-ban-xe-dien-trung-quoc-bat-ngo-doi-van-2433837.html: https://static-images.vnncdn.net/vps_images_publish/000001/000003/2025/8/20/ong-lon-viet-ban-xe-dien-trung-quoc-bat-ngo-doi-van-203.gif?width=550&s=a3r-Tj7UnBY8AiTHA8ZnaQ\n",
      "Found avatar for https://vietnamnet.vn/vietlott-tim-duoc-ve-so-trung-doc-dac-3-4-ty-dong-2433787.html: https://static-images.vnncdn.net/vps_images_publish/000001/000003/2025/8/19/vietlott-tim-duoc-ve-so-trung-doc-dac-tien-ty-3680.jpg?width=360&s=2_7-n_YxG3vlMmEtgtFAEw\n",
      "Found avatar for https://vietnamnet.vn/ca-trung-quoc-gia-re-ve-nhieu-lam-cau-noi-khien-ca-tam-o-lao-cai-lao-dao-2433772.html: https://static-images.vnncdn.net/vps_images_publish/000001/000003/2025/8/20/ca-trung-quoc-gia-re-ve-nhieu-lam-cau-noi-khien-nguoi-nuoi-ca-tam-o-lao-cai-lao-dao-424.png?width=360&s=5gzN-R_3in6KJqSBXIhrzA\n",
      "You are at {'cat_names': 'Thể thao', 'url': 'https://vietnamnet.vn/the-thao'}.\n",
      "Found avatar for https://vietnamnet.vn/lai-thua-nu-viet-nam-nu-thai-lan-lo-lang-sea-games-2025-2433883.html: https://static-images.vnncdn.net/vps_images_publish/000001/000003/2025/8/20/lien-tuc-thua-nu-viet-nam-thai-lan-lo-hut-huy-chuong-sea-games-319.jpg?width=550&s=cwSMVDLI6DLBkPBPBlGdWQ\n",
      "Found avatar for https://vietnamnet.vn/salah-lap-ky-luc-vo-doi-ngoai-hang-anh-isak-vang-vi-ngong-liverpool-2433922.html: https://static-images.vnncdn.net/vps_images_publish/000001/000003/2025/8/20/salah-lap-ky-luc-vo-doi-ngoai-hang-anh-isak-vang-vi-ngong-liverpool-472.jpg?width=360&s=1aTb6G3lXX1VrarpC8WBOg\n",
      "Found avatar for https://vietnamnet.vn/tuyen-bong-chuyen-nu-viet-nam-hao-huc-sang-thai-lan-du-giai-the-gioi-2433825.html: https://static-images.vnncdn.net/vps_images_publish/000001/000003/2025/8/20/tuyen-bong-chuyen-nu-viet-nam-hao-huc-sang-thai-lan-du-giai-the-gioi-334.jpg?width=360&s=Xw8fb0UAu-f8FZ71etVN4A\n",
      "You are at {'cat_names': 'Giáo dục', 'url': 'https://vietnamnet.vn/giao-duc'}.\n",
      "Found avatar for https://vietnamnet.vn/nghe-an-chi-hon-1-4-ty-dong-thuong-75-hoc-sinh-thi-tot-nghiep-thpt-diem-cao-2433896.html: https://static-images.vnncdn.net/vps_images_publish/000001/000003/2025/8/20/nghe-an-chi-hon-14-ty-dong-thuong-75-hoc-sinh-thi-tot-nghiep-thpt-diem-cao-445.jpg?width=550&s=sUJs3_-_PIlKSXVKjHdFgA\n",
      "Found avatar for https://vietnamnet.vn/diem-chuan-hoc-ba-nam-2025-cao-chot-vot-nhieu-nganh-nhieu-truong-len-toi-29-2433885.html: https://static-images.vnncdn.net/vps_images_publish/000001/000003/2025/8/20/diem-chuan-hoc-ba-nam-2025-cao-chot-vot-nhieu-nganh-nhieu-truong-len-toi-29-274.jpg?width=360&s=X5oZrHGF5rx32AbeaITKHQ\n",
      "Found avatar for https://vietnamnet.vn/nu-thu-khoa-diem-tuyet-doi-tung-bi-ban-tan-truong-chuyen-ma-truot-dai-hoc-2433748.html: https://static-images.vnncdn.net/vps_images_publish/000001/000003/2025/8/19/nu-thu-khoa-diem-tuyet-doi-tung-bi-ban-tan-truong-chuyen-ma-truot-dai-hoc-4023.jpg?width=360&s=UHS46uGBannqrKwNnv6mXw\n",
      "You are at {'cat_names': 'Thế giới', 'url': 'https://vietnamnet.vn/the-gioi'}.\n",
      "Found avatar for https://vietnamnet.vn/ong-trump-thuc-day-cuoc-gap-lich-su-giua-tong-thong-nga-va-ukraine-2433904.html: https://static-images.vnncdn.net/vps_images_publish/000001/000003/2025/8/20/ong-trump-thuc-day-cuoc-gap-lich-su-giua-tong-thong-nga-va-ukraine-448.jpg?width=550&s=jhDecPzXDOOGHC7owM7UcA\n",
      "Found avatar for https://vietnamnet.vn/hon-chuc-quoc-gia-chau-au-muon-dieu-linh-tham-gia-dam-bao-an-ninh-cho-ukraine-2433910.html: https://static-images.vnncdn.net/vps_images_publish/000001/000003/2025/8/20/hon-chuc-nuoc-chau-au-muon-cu-linh-tham-gia-dam-bao-an-ninh-cho-ukraine-484.jpg?width=360&s=R87p49J8_YVZ1URDli42vQ\n",
      "Found avatar for https://vietnamnet.vn/nga-khong-dat-muc-tieu-kiem-soat-lanh-tho-ukraine-moi-ong-trump-tham-moscow-2433879.html: https://static-images.vnncdn.net/vps_images_publish/000001/000003/2025/8/20/nga-khong-dat-muc-tieu-kiem-soat-lanh-tho-ukraine-trao-tra-them-1-200.jpg?width=360&s=wUPCawYfmgx--YK4fqY-9A\n",
      "You are at {'cat_names': 'Văn hóa - Giải trí', 'url': 'https://vietnamnet.vn/van-hoa-giai-tri'}.\n",
      "Found avatar for https://vietnamnet.vn/thieu-ta-cong-an-truc-mai-ke-ve-chong-cung-nghe-khong-so-bi-nem-da-vi-vai-ac-2428938.html: https://static-images.vnncdn.net/vps_images_publish/000001/000003/2025/8/18/thieu-ta-cong-an-truc-maike-ve-chong-cung-nghe-khong-so-bi-nem-da-vi-vai-ac-1234.jpg?width=550&s=_m0D_pXIEJLiLjeYpecGWg\n",
      "Found avatar for https://vietnamnet.vn/mai-phuong-thuy-chua-ket-hon-muon-cung-da-muon-roi-dau-thay-doi-duoc-gi-2430568.html: https://static-images.vnncdn.net/vps_images_publish/000001/000003/2025/8/11/maiphuongthuy-ava-1699.jpg?width=360&s=Q3ohrdKL8GTi_j0sGaXGTQ\n",
      "Found avatar for https://vietnamnet.vn/gio-ngang-khoang-troi-xanh-tap-6-my-anh-mau-thuan-voi-chong-2433891.html: https://static-images.vnncdn.net/vps_images_publish/000001/000003/2025/8/20/gio-ngang-khoang-troi-xanh-tap-6-my-anh-mau-thuan-voi-chong-386.gif?width=360&s=ap59Tcxfi3H69uxdvbeMfg\n",
      "You are at {'cat_names': 'Sức khỏe', 'url': 'https://vietnamnet.vn/suc-khoe'}.\n",
      "Found avatar for https://vietnamnet.vn/tre-21-thang-tuoi-phai-cap-cuu-sau-khi-con-ran-den-trang-bo-ben-canh-2433899.html: https://static-images.vnncdn.net/vps_images_publish/000001/000003/2025/8/20/tre-21-thang-phai-cap-cuu-sau-khi-con-ran-den-trang-bo-ben-canh-482.jpg?width=550&s=rMoOPF1wrqvW0eodBM7f7g\n",
      "Found avatar for https://vietnamnet.vn/mui-vac-xin-ngua-4-benh-nguy-hiem-giup-me-an-tam-khi-con-den-truong-2433710.html: https://static-images.vnncdn.net/vps_images_publish/000001/000003/2025/8/19/mui-vac-xin-ngua-4-benh-nguy-hiem-giup-me-an-tam-khi-con-den-truong-2397.jpg?width=360&s=Jb6_awLNxRuA3-7O6QUlUw\n",
      "Found avatar for https://vietnamnet.vn/thu-tuc-kham-chua-benh-cap-cuu-theo-dien-bhyt-moi-nhat-theo-quy-dinh-cua-bo-y-te-2433171.html: https://static-images.vnncdn.net/vps_images_publish/000001/000003/2025/8/19/cap-cuu-3815.jpeg?width=360&s=QkJPZp6CpFlVFay7e6MJPA\n",
      "You are at {'cat_names': 'Công nghệ', 'url': 'https://vietnamnet.vn/cong-nghe'}.\n",
      "Found avatar for https://vietnamnet.vn/xe-tang-frankenstein-ukraine-sieu-vu-khi-lai-tao-tu-sat-vun-chien-truong-2433634.html: https://static-images.vnncdn.net/vps_images_publish/000001/000003/2025/8/19/ukraine-va-cong-nghe-xe-tang-frankenstein-sieu-vu-khi-lai-tao-tu-sat-vun-chien-truong-4281.gif?width=550&s=zNgfdizPLECbkpC4mq1jUA\n",
      "Found avatar for https://vietnamnet.vn/iphone-17-series-pin-lon-sieu-mong-va-nhieu-ky-vong-tu-apple-mua-thu-nay-2433753.html: https://static-images.vnncdn.net/vps_images_publish/000001/000003/2025/8/19/iphone-17-series-pin-lon-sieu-mong-va-nhieu-ky-vong-tu-apple-mua-thu-nay-3190.gif?width=360&s=BGl6zs6NDQuxKh8LqG5R5g\n",
      "Found avatar for https://vietnamnet.vn/tho-nhi-ky-tung-xe-tang-laser-alka-kaplan-huy-diet-uav-trong-nhay-mat-2433586.html: https://static-images.vnncdn.net/vps_images_publish/000001/000003/2025/8/19/tho-nhi-ky-tung-cong-nghe-xe-tang-laser-huy-diet-uav-gioi-quan-su-toan-cau-choang-vang-2212.gif?width=360&s=KGtcITsNl6bp0akx0dIvXQ\n",
      "You are at {'cat_names': 'Pháp luật', 'url': 'https://vietnamnet.vn/phap-luat'}.\n",
      "Found avatar for https://vietnamnet.vn/bat-coc-doanh-nhan-va-nhung-man-tra-tan-da-man-ep-chi-tien-2433820.html: https://static-images.vnncdn.net/vps_images_publish/000001/000003/2025/8/19/bat-coc-doanh-nhan-va-nhung-man-tra-tan-da-man-ep-chi-tien-4155.png?width=550&s=eXJuD6o3ezdLTRmQsOUKoQ\n",
      "Found avatar for https://vietnamnet.vn/tu-hinh-ba-ban-bun-rieu-sat-hai-ong-giao-thit-heo-2433686.html: https://static-images.vnncdn.net/vps_images_publish/000001/000003/2025/8/19/tu-hinh-ba-ban-bun-rieu-sat-hai-ong-giao-thit-heo-2112.jpg?width=360&s=vOGDzs2acAgvkdbASHIp_g\n",
      "Found avatar for https://vietnamnet.vn/hai-nguoi-trung-quoc-trom-hon-600-trieu-dong-chuan-bi-ra-san-bay-bo-tron-2433653.html: https://static-images.vnncdn.net/vps_images_publish/000001/000003/2025/8/19/hai-nguoi-trung-quoc-trom-hon-600-trieu-dong-chuan-bi-ra-san-bay-bo-tron-1807.jpg?width=360&s=laCBwbc5dzD0IrOU0M053g\n",
      "You are at {'cat_names': 'Du lịch', 'url': 'https://vietnamnet.vn/du-lich'}.\n",
      "Found avatar for https://vietnamnet.vn/khach-my-me-man-mot-mon-trong-ngo-ha-noi-san-sang-di-ca-tieng-de-an-2433520.html: https://static-images.vnncdn.net/vps_images_publish/000001/000003/2025/8/19/khach-my-me-man-mot-mon-trong-ngo-ha-noi-san-sang-di-ca-tieng-de-an-3157.gif?width=550&s=Mb8c0Iiz2tSo1G8qa_jf3Q\n",
      "Found avatar for https://vietnamnet.vn/khach-tay-cuoi-vang-khi-cuoi-trau-up-ca-giua-dong-que-ninh-binh-2433334.html: https://static-images.vnncdn.net/vps_images_publish/000001/000003/2025/8/19/khach-tay-cuoi-vang-khi-cuoi-trau-up-ca-giua-dong-que-ninh-binh-1145.gif?width=360&s=MlsJtOumQvGujLXXAHSt3Q\n",
      "Found avatar for https://vietnamnet.vn/vi-sao-hanh-khach-luon-len-xuong-may-bay-bang-cua-ben-trai-2433645.html: https://static-images.vnncdn.net/vps_images_publish/000001/000003/2025/8/19/vi-sao-hanh-khach-luon-len-xuong-may-bay-bang-cua-ben-trai-1866.jpg?width=360&s=4QQX0qXvWreJHkYNl4DGzA\n"
     ]
    }
   ],
   "source": [
    "saved_cats = {}\n",
    "for cat in cats:\n",
    "    cat_name = cat['cat_names']\n",
    "    url = cat['url']\n",
    "    if cat_name in TARGET_CATS:\n",
    "        print(f\"You are at {cat}.\")\n",
    "        article_data = crawl_each_category_url(driver, url)\n",
    "        saved_cats[cat_name] = article_data\n",
    "\n",
    "\n",
    "with open(DATA_URL_FILE, \"w\", encoding=\"utf-8\") as fOut:\n",
    "    json.dump(saved_cats, fOut, ensure_ascii=False, indent=4)\n",
    "\n",
    "driver.close()"
   ]
  },
  {
   "cell_type": "code",
   "execution_count": 21,
   "id": "bbbbe7b1",
   "metadata": {},
   "outputs": [
    {
     "data": {
      "text/plain": [
       "33"
      ]
     },
     "execution_count": 21,
     "metadata": {},
     "output_type": "execute_result"
    }
   ],
   "source": [
    "len(crawled_urls)"
   ]
  },
  {
   "cell_type": "markdown",
   "id": "e6235de3",
   "metadata": {},
   "source": [
    "# Thu thập thông tin bài báo"
   ]
  },
  {
   "cell_type": "code",
   "execution_count": 40,
   "id": "c7b755f1",
   "metadata": {},
   "outputs": [],
   "source": [
    "# Filepath cho cái trước\n",
    "FILE_URL_PATH = \"data/vietnamnet_url.json\"\n",
    "\n",
    "# Đặt limit số articles lấy từ mỗi thể loại\n",
    "MAX_ARTICLES_PER_CAT = 2 # Nếu set = None thì là tất cả các urls ở file trước\n",
    "\n",
    "# Data output, mỗi thể loại là 1 file json chứa articles\n",
    "DATA_FOLDER_OUTPUT = \"data\\\\vietnamnet\"\n",
    "\n",
    "!mkdir -p $DATA_FOLDER_OUTPUT\n",
    "\n",
    "# Để loading strategy về eager load nhanh, không quan tâm ảnh\n",
    "chrome_options.page_load_strategy = \"eager\""
   ]
  },
  {
   "cell_type": "code",
   "execution_count": 41,
   "id": "42e8cc25",
   "metadata": {},
   "outputs": [
    {
     "data": {
      "text/plain": [
       "11"
      ]
     },
     "execution_count": 41,
     "metadata": {},
     "output_type": "execute_result"
    }
   ],
   "source": [
    "# Đọc file url\n",
    "\n",
    "with open(FILE_URL_PATH, \"r\", encoding=\"utf-8\") as fIn:\n",
    "    url_data = json.load(fIn)\n",
    "\n",
    "len(url_data)"
   ]
  },
  {
   "cell_type": "markdown",
   "id": "66ae15a3",
   "metadata": {},
   "source": [
    "## Chạy thử nghiệm"
   ]
  },
  {
   "cell_type": "code",
   "execution_count": null,
   "id": "2c376684",
   "metadata": {},
   "outputs": [],
   "source": [
    "driver = webdriver.Chrome(options=chrome_options)\n",
    "\n",
    "# Một số url để thử nghiệm\n",
    "\n",
    "SAMPLE_ARTICLE_URLS = [\n",
    "        {\n",
    "            \"url\": \"https://vietnamnet.vn/man-doi-dap-cuc-gat-khien-ke-gia-danh-can-bo-thue-nghen-ngao-thu-toi-2433305.html\",\n",
    "            \"url_img\": \"https://static-images.vnncdn.net/vps_images_publish/000001/000003/2025/8/19/man-doi-dap-cuc-gat-khien-ke-gia-danh-can-bo-thue-nghen-ngao-thu-toi-1546.gif?width=550&s=o2b7BQcMjEroZaFOnitZTw\"\n",
    "        },\n",
    "        {\n",
    "            \"url\": \"https://vietnamnet.vn/nguy-co-rinh-rap-tu-diem-den-loi-di-tu-mo-qua-duong-sat-o-ninh-binh-2432916.html\",\n",
    "            \"url_img\": \"https://static-images.vnncdn.net/vps_images_publish/000001/000003/2025/8/17/hanh-dong-lieu-linh-cua-nguoi-dan-ninh-binh-khi-song-gan-duong-ray-tau-hoa-998.jpg?width=360&s=Xo-IcBTRm58t6H6s-S8iPg\"\n",
    "        },\n",
    "        {\n",
    "            \"url\": \"https://vietnamnet.vn/du-bao-thoi-tiet-20-8-2025-mien-bac-nang-den-34-do-van-xuat-hien-mua-to-cuc-bo-2433768.html\",\n",
    "            \"url_img\": \"https://static-images.vnncdn.net/vps_images_publish/000001/000003/2025/8/20/2025-mien-bac-nang-den-34-do-van-xuat-hien-mua-to-cuc-bo-255.jpg?width=360&s=R4M4D3fBLPTkOTsLldQ3mA\"\n",
    "        }\n",
    "]\n",
    "\n",
    "# chọn url\n",
    "SAMPLE_ARTICLE_URL = SAMPLE_ARTICLE_URLS[2]"
   ]
  },
  {
   "cell_type": "code",
   "execution_count": 43,
   "id": "4a08502c",
   "metadata": {},
   "outputs": [],
   "source": [
    "driver.get(SAMPLE_ARTICLE_URL)"
   ]
  },
  {
   "cell_type": "code",
   "execution_count": 44,
   "id": "34135aa5",
   "metadata": {},
   "outputs": [
    {
     "data": {
      "text/plain": [
       "'Tử hình kẻ tấn công khiến cảnh sát cơ động hi sinh, người mẹ bị hại khóc, nói lời xót xa'"
      ]
     },
     "execution_count": 44,
     "metadata": {},
     "output_type": "execute_result"
    }
   ],
   "source": [
    "# Title\n",
    "driver.find_element(by=By.CSS_SELECTOR, value=\"h1.content-detail-title\").text"
   ]
  },
  {
   "cell_type": "code",
   "execution_count": 45,
   "id": "67974e93",
   "metadata": {},
   "outputs": [
    {
     "data": {
      "text/plain": [
       "'Sau hơn 5 tháng gây ra vụ án khiến chiến sĩ Cảnh sát cơ động hi sinh trong khi làm nhiệm vụ ở TP Vũng Tàu (cũ), Dương Hữu Trí bị đưa ra xét xử với 4 tội danh nghiêm trọng và bị tuyên phạt mức án cao nhất là tử hình.'"
      ]
     },
     "execution_count": 45,
     "metadata": {},
     "output_type": "execute_result"
    }
   ],
   "source": [
    "# Tìm kiếm mô tả \n",
    "driver.find_element(by=By.CLASS_NAME, value=\"sm-sapo-mb-0\").text"
   ]
  },
  {
   "cell_type": "code",
   "execution_count": 46,
   "id": "7b1a2790",
   "metadata": {},
   "outputs": [
    {
     "data": {
      "text/plain": [
       "['Pháp luật',\n",
       " 'Chính trị',\n",
       " 'Thời sự',\n",
       " 'Kinh doanh',\n",
       " 'Dân tộc và Tôn giáo',\n",
       " 'Thể thao',\n",
       " 'Giáo dục',\n",
       " 'Thế giới',\n",
       " 'Đời sống',\n",
       " 'Văn hóa - Giải trí',\n",
       " 'Sức khỏe',\n",
       " 'Công nghệ',\n",
       " 'Pháp luật',\n",
       " 'Xe',\n",
       " 'Bất động sản',\n",
       " 'Du lịch',\n",
       " 'Bạn đọc',\n",
       " 'Ký sự pháp đình']"
      ]
     },
     "execution_count": 46,
     "metadata": {},
     "output_type": "execute_result"
    }
   ],
   "source": [
    "# Thu thập thể loại\n",
    "lis_cat = []\n",
    "sub_cat = driver.find_element(by=By.CLASS_NAME, value=\"sm-show-time\")\n",
    "lis_cats = sub_cat.find_element(by=By.CSS_SELECTOR, value=\"ul\").find_elements(by=By.TAG_NAME, value=\"a\")\n",
    "for cat in lis_cats:\n",
    "    category = cat.get_attribute(\"title\")\n",
    "    if len(category):\n",
    "        lis_cat.append(category)\n",
    "lis_cat"
   ]
  },
  {
   "cell_type": "code",
   "execution_count": 47,
   "id": "1703d545",
   "metadata": {},
   "outputs": [
    {
     "data": {
      "text/plain": [
       "'thứ hai, 18/08/2025 - 18:14'"
      ]
     },
     "execution_count": 47,
     "metadata": {},
     "output_type": "execute_result"
    }
   ],
   "source": [
    "#Thu thập ngày\n",
    "#### CODE HERE\n",
    "publisd_date = driver.find_element(by=By.CLASS_NAME, value=\"bread-crumb-detail__time\").text\n",
    "publisd_date\n",
    "####\n"
   ]
  },
  {
   "cell_type": "code",
   "execution_count": 48,
   "id": "e2d067d6",
   "metadata": {},
   "outputs": [],
   "source": [
    "# Tìm kiếm contents\n",
    "#### CODE HERE\n",
    "article = driver.find_element(by=By.CLASS_NAME, value=\"main-content\")\n",
    "children = article.find_elements(by=By.XPATH, value=\"./*\")\n",
    "####"
   ]
  },
  {
   "cell_type": "code",
   "execution_count": 49,
   "id": "cb6c5c3e",
   "metadata": {},
   "outputs": [],
   "source": [
    "# Thu thập contents\n",
    "contents = []\n",
    "author = \"Unknown\"\n",
    "is_slide_show = False\n",
    "\n",
    "for idx, child in enumerate(children):\n",
    "    text = child.text.strip()\n",
    "    if child.tag_name in [\"p\", \"h1\", \"h2\", \"h3\", \"h4\"]: # paragraph\n",
    "\n",
    "        #### CODE HERE\n",
    "        contents.append(text)\n",
    "        ####\n",
    "\n",
    "    elif child.tag_name == \"figure\" :\n",
    "        ## If length > 100  --> not a caption, it's next description\n",
    "        #### CODE HERE\n",
    "        if len(text) > 0:\n",
    "            if len(text) <= 100:\n",
    "                contents.append(f\"[{text}]\")\n",
    "            else:\n",
    "                contents.append(text)\n",
    "        ####\n",
    "\n",
    "    elif child.tag_name == \"table\": # Do nothing rightnow\n",
    "        pass"
   ]
  },
  {
   "cell_type": "code",
   "execution_count": 50,
   "id": "17133469",
   "metadata": {},
   "outputs": [
    {
     "data": {
      "text/plain": [
       "['Chiều 18/8, TAND TPHCM cơ sở 1 (tỉnh Bà Rịa - Vũng Tàu cũ) mở phiên tòa xét xử sơ thẩm bị cáo Dương Hữu Trí (38 tuổi, trú phường 7, TP Vũng Tàu cũ - nay là phường Tam Thắng, TPHCM) về các tội \"Giết người\", \"Cố ý gây thương tích\", \"Chống người thi hành công vụ\" và \"Hủy hoại tài sản\".',\n",
       " '[Bị cáo Dương Hữu Trí tại phiên tòa. Ảnh: Quang Hưng]',\n",
       " 'Trí là đối tượng từng dùng dao tấn công khiến hạ sĩ Nguyễn Ngọc Minh Nhật (SN 2001, quê Phú Yên cũ) chiến sĩ Cảnh sát cơ động thuộc Phòng CSCĐ tỉnh Bà Rịa - Vũng Tàu (cũ) - hi sinh hồi tháng 3 vừa qua, gây xôn xao dư luận.',\n",
       " 'Theo cáo trạng, Dương Hữu Trí là đối tượng được quản lý sau cai nghiện ma túy tại nơi cư trú do UBND phường 7, TP Vũng Tàu (cũ) quản lý từ ngày 19/6/2023 đến 19/6/2025.',\n",
       " 'Ngày 17/2/2025, theo kế hoạch, Công an phường 7 đến nhà mời Trí xét nghiệm ma túy nhưng đối tượng chống đối, không chấp hành. Sau đó, công an địa phương đưa vào diện theo dõi, xử lý.',\n",
       " 'Khoảng 7h ngày 3/3, bốn cán bộ Công an phường 7 tiếp tục đến nhà mời Trí test ma túy. Lúc này, Trí chửi bới, cầm dao rượt đuổi, ném vỡ điện thoại của cán bộ để trên xe, châm lửa đốt hai xe máy của lực lượng chức năng. Chưa dừng lại, Trí còn cố thủ trong nhà, tạt nước sôi vào người một cảnh sát.',\n",
       " 'Nhận thấy đối tượng chống đối quyết liệt, Công an tỉnh Bà Rịa - Vũng Tàu (cũ) đã triển khai lực lượng Cảnh sát cơ động, phối hợp với chính quyền địa phương vận động, đối thoại nhưng bất thành. Trí sau đó mở khóa bình gas, dọa cho nổ, đốt nhà nếu ai dám xông vào, tiếp cận.',\n",
       " 'Khi tổ Cảnh sát cơ động gồm 10 chiến sĩ triển khai các biện pháp nghiệp vụ áp sát từ cửa chính, Trí bất ngờ lao ra dùng dao tấn công, đâm một nhát trúng vùng ngực hạ sĩ Nguyễn Ngọc Minh Nhật. Sau đó, trong lúc bỏ chạy lên phòng ngủ cố thủ, Trí tiếp tục gây thương tích cho một chiến sĩ cảnh sát khác.',\n",
       " 'Đến khoảng 13h cùng ngày, Trí bị lực lượng chức năng khống chế, bắt giữ tại phòng ngủ.',\n",
       " 'Về phía hạ sĩ Nhật, dù được đồng đội nhanh chóng đưa đi bệnh viện cấp cứu nhưng do vết thương quá nặng nên anh đã hi sinh vào chiều cùng ngày.',\n",
       " 'Tại phiên tòa hôm nay, bị cáo Trí khẳng định trước HĐXX hành vi phạm tội và tội danh truy tố đối với bản thân là đúng. Khi được yêu cầu nêu lại diễn biến vụ án, Trí nói xin nhận tội và khai không có mâu thuẫn gì với bị hại.',\n",
       " 'Về động cơ gây án, Trí khai rằng do sợ bị bắt, đi tù nên khủng hoảng dẫn tới việc chống đối, không chấp hành quy định test ma túy. Mặc dù bản thân bị cáo biết rõ việc test ma túy là đúng theo quy định, sau thời gian cai nghiện được trở về địa phương.',\n",
       " 'Về phía đại diện gia đình bị hại, mẹ chiến sĩ Nhật cho biết, Nhật là người con duy nhất của gia đình, rất ngoan ngoãn, học xong cháu xin đi nghĩa vụ vào công an. Thế rồi ngày nhận tin dữ, bà rất bàng hoàng, đau đớn trước sự ra đi của con.',\n",
       " 'Khi được HĐXX hỏi, bà nói không yêu cầu bồi thường, nhưng đề nghị xử lý nghiêm bị cáo Trí theo quy định pháp luật và mong cơ quan chức năng nên có thêm biện pháp bảo vệ, hạn chế những sự hi sinh tương tự, như với con mình. \"Tôi mong rằng con tôi là người chiến sĩ cảnh sát cuối cùng hi sinh như vậy\", bà bật khóc nói.',\n",
       " 'HĐXX nhận định, hành vi của bị cáo Trí là đặc biệt nghiêm trọng, coi thường pháp luật, tính mạng và sức khỏe của người khác, cố ý hủy hoại tài sản của lực lượng chức năng với tính chất côn đồ... Do đó, cần có bản án nghiêm khắc nhất để giáo dục, phòng ngừa chung.',\n",
       " 'Từ đó, HĐXX quyết định tuyên phạt bị cáo Trí tử hình về tội Giết người, 2 năm tù về tội Cố ý gây thương tích, 2 năm tù về tội Chống người thi hành công vụ và 3 năm tù về tội Hủy hoại tài sản. Tổng hợp hình phạt chung là tử hình.']"
      ]
     },
     "execution_count": 50,
     "metadata": {},
     "output_type": "execute_result"
    }
   ],
   "source": [
    "contents"
   ]
  },
  {
   "cell_type": "code",
   "execution_count": 51,
   "id": "9b62c822",
   "metadata": {},
   "outputs": [],
   "source": [
    "# Thu thập tác giả\n",
    "is_author_maybe_last = False\n",
    "authors = []\n",
    "try:\n",
    "    #### CODE HERE\n",
    "    name = driver.find_element(by=By.CLASS_NAME, value=\"article-detail-author-wrapper\")\n",
    "    author_names = name.find_elements(by=By.CLASS_NAME, value=\"name\")\n",
    "    for author_name in author_names:\n",
    "        author = author_name.find_element(by=By.CSS_SELECTOR, value=\"a\").get_attribute(\"title\")\n",
    "        authors.append(author)\n",
    "    ####\n",
    "except NoSuchElementException:\n",
    "    is_author_maybe_last = True\n",
    "\n",
    "# Nếu không tìm thấy tác giả bên đầu --> tác giả ở cuối content nếu content cuối len < 30\n",
    "if is_author_maybe_last:\n",
    "    if len(contents):\n",
    "        last_content = contents[-1]\n",
    "        if last_content.find('-') != -1 and last_content.find('-') <= 30:\n",
    "            authors = last_content[:(last_content.find('-')-1)]\n",
    "        else:\n",
    "            authors = \"Unknown\""
   ]
  },
  {
   "cell_type": "code",
   "execution_count": 52,
   "id": "0f388a43",
   "metadata": {},
   "outputs": [
    {
     "data": {
      "text/plain": [
       "['Quang Hưng']"
      ]
     },
     "execution_count": 52,
     "metadata": {},
     "output_type": "execute_result"
    }
   ],
   "source": [
    "authors"
   ]
  },
  {
   "cell_type": "code",
   "execution_count": 53,
   "id": "f482cef5",
   "metadata": {},
   "outputs": [],
   "source": [
    "driver.close()"
   ]
  },
  {
   "cell_type": "markdown",
   "id": "f12ceb06",
   "metadata": {},
   "source": [
    "## Chạy thật"
   ]
  },
  {
   "cell_type": "code",
   "execution_count": null,
   "id": "45125f11",
   "metadata": {},
   "outputs": [],
   "source": [
    "def get_content_metadata(driver, article_url):\n",
    "\n",
    "    \"\"\"\n",
    "    Extracts and returns metadata and content from a given article URL.\n",
    "\n",
    "    :param driver: Selenium WebDriver instance.\n",
    "    :param article_url: URL of the article to extract data from.\n",
    "    :return: Dictionary containing article metadata and content.\n",
    "    \"\"\"\n",
    "\n",
    "    # Get to current article\n",
    "    driver.get(article_url)\n",
    "\n",
    "    title = driver.find_element(by=By.CSS_SELECTOR, value=\"h1.content-detail-title\").text # Title\n",
    "    description = driver.find_element(by=By.CLASS_NAME, value=\"sm-sapo-mb-0\").text # Description\n",
    "    ####\n",
    "\n",
    "    # Thu thập thể loại\n",
    "    #### CODE HERE\n",
    "    lis_cat = []\n",
    "    sub_cat = driver.find_element(by=By.CLASS_NAME, value=\"sm-show-time\")\n",
    "    lis_cats = sub_cat.find_element(by=By.CSS_SELECTOR, value=\"ul\").find_elements(by=By.TAG_NAME, value=\"a\")\n",
    "    for cat in lis_cats:\n",
    "        category = cat.get_attribute(\"title\")\n",
    "        if len(category):\n",
    "            lis_cat.append(category)\n",
    "    \n",
    "    main_cat = lis_cat[0]\n",
    "    if len(lis_cat) > 1:\n",
    "        sub_cat = lis_cat[1]\n",
    "    else:\n",
    "        sub_cat = \"None\"\n",
    "    ####\n",
    "\n",
    "\n",
    "    # Thu thập published date\n",
    "    published_date = driver.find_element(by=By.CLASS_NAME, value=\"bread-crumb-detail__time\").text\n",
    "\n",
    "    # Thu thập content bài báo\n",
    "    #### CODE HERE\n",
    "    # Locate phần viết content\n",
    "    article = driver.find_element(by=By.CLASS_NAME, value=\"main-content\")\n",
    "    # Lấy hết các đầu mục con của bài báo\n",
    "    children = article.find_elements(by=By.XPATH, value=\"./*\")\n",
    "    \n",
    "    # Thu thập contents\n",
    "    contents = []\n",
    "    author = \"Unknown\"\n",
    "    is_slide_show = False\n",
    "\n",
    "    for idx, child in enumerate(children):\n",
    "        text = child.text.strip()\n",
    "        if child.tag_name in [\"p\", \"h1\", \"h2\", \"h3\", \"h4\"]: # paragraph\n",
    "            contents.append(text)\n",
    "            ####\n",
    "\n",
    "        elif child.tag_name == \"figure\" :\n",
    "            ## If length > 100  --> not a caption, it's next description\n",
    "            #### CODE HERE\n",
    "            if len(text) > 0:\n",
    "                if len(text) <= 100:\n",
    "                    contents.append(f\"[{text}]\")\n",
    "                else:\n",
    "                    contents.append(text)\n",
    "            ####\n",
    "\n",
    "        elif child.tag_name == \"table\": # Do nothing rightnow\n",
    "            pass\n",
    "    ####\n",
    "\n",
    "    # Thu thập tác giả\n",
    "    #### CODE HERE\n",
    "    is_author_maybe_last = False\n",
    "    authors = []\n",
    "    try:\n",
    "        #### CODE HERE\n",
    "        name = driver.find_element(by=By.CLASS_NAME, value=\"article-detail-author-wrapper\")\n",
    "        author_names = name.find_elements(by=By.CLASS_NAME, value=\"name\")\n",
    "        for author_name in author_names:\n",
    "            author = author_name.find_element(by=By.CSS_SELECTOR, value=\"a\").get_attribute(\"title\")\n",
    "            authors.append(author)\n",
    "        ####\n",
    "    except NoSuchElementException:\n",
    "        is_author_maybe_last = True\n",
    "\n",
    "    # Nếu không tìm thấy tác giả bên đầu --> tác giả ở cuối content nếu content cuối len < 30\n",
    "    if is_author_maybe_last:\n",
    "        if len(contents):\n",
    "            last_content = contents[-1]\n",
    "            if last_content.find('-') != -1 and last_content.find('-') <= 30:\n",
    "                authors = last_content[:(last_content.find('-')-1)]\n",
    "            else:\n",
    "                authors = \"Unknown\"\n",
    "\n",
    "\n",
    "    return {\n",
    "        \"url\": article_url,\n",
    "        \"title\": title,\n",
    "        \"description\": description,\n",
    "        \"content\": \"\\n\".join(contents),\n",
    "        \"metadata\": {\n",
    "            \"cat\": main_cat,\n",
    "            \"subcat\": sub_cat,\n",
    "            \"published_date\": published_date,\n",
    "            \"author\": author\n",
    "        }\n",
    "    }\n"
   ]
  }
 ],
 "metadata": {
  "kernelspec": {
   "display_name": "Python 3",
   "language": "python",
   "name": "python3"
  },
  "language_info": {
   "codemirror_mode": {
    "name": "ipython",
    "version": 3
   },
   "file_extension": ".py",
   "mimetype": "text/x-python",
   "name": "python",
   "nbconvert_exporter": "python",
   "pygments_lexer": "ipython3",
   "version": "3.13.3"
  }
 },
 "nbformat": 4,
 "nbformat_minor": 5
}
