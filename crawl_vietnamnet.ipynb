{
 "cells": [
  {
   "cell_type": "markdown",
   "id": "8b74e1ca",
   "metadata": {},
   "source": [
    "# Chuẩn bị thư viện"
   ]
  },
  {
   "cell_type": "code",
   "execution_count": 4,
   "id": "c502c7db",
   "metadata": {},
   "outputs": [
    {
     "name": "stdout",
     "output_type": "stream",
     "text": [
      "Requirement already satisfied: selenium in /Library/Frameworks/Python.framework/Versions/3.13/lib/python3.13/site-packages (4.35.0)\n",
      "Requirement already satisfied: urllib3<3.0,>=2.5.0 in /Library/Frameworks/Python.framework/Versions/3.13/lib/python3.13/site-packages (from urllib3[socks]<3.0,>=2.5.0->selenium) (2.5.0)\n",
      "Requirement already satisfied: trio~=0.30.0 in /Library/Frameworks/Python.framework/Versions/3.13/lib/python3.13/site-packages (from selenium) (0.30.0)\n",
      "Requirement already satisfied: trio-websocket~=0.12.2 in /Library/Frameworks/Python.framework/Versions/3.13/lib/python3.13/site-packages (from selenium) (0.12.2)\n",
      "Requirement already satisfied: certifi>=2025.6.15 in /Library/Frameworks/Python.framework/Versions/3.13/lib/python3.13/site-packages (from selenium) (2025.8.3)\n",
      "Requirement already satisfied: typing_extensions~=4.14.0 in /Library/Frameworks/Python.framework/Versions/3.13/lib/python3.13/site-packages (from selenium) (4.14.1)\n",
      "Requirement already satisfied: websocket-client~=1.8.0 in /Library/Frameworks/Python.framework/Versions/3.13/lib/python3.13/site-packages (from selenium) (1.8.0)\n",
      "Requirement already satisfied: attrs>=23.2.0 in /Library/Frameworks/Python.framework/Versions/3.13/lib/python3.13/site-packages (from trio~=0.30.0->selenium) (25.3.0)\n",
      "Requirement already satisfied: sortedcontainers in /Library/Frameworks/Python.framework/Versions/3.13/lib/python3.13/site-packages (from trio~=0.30.0->selenium) (2.4.0)\n",
      "Requirement already satisfied: idna in /Library/Frameworks/Python.framework/Versions/3.13/lib/python3.13/site-packages (from trio~=0.30.0->selenium) (3.10)\n",
      "Requirement already satisfied: outcome in /Library/Frameworks/Python.framework/Versions/3.13/lib/python3.13/site-packages (from trio~=0.30.0->selenium) (1.3.0.post0)\n",
      "Requirement already satisfied: sniffio>=1.3.0 in /Library/Frameworks/Python.framework/Versions/3.13/lib/python3.13/site-packages (from trio~=0.30.0->selenium) (1.3.1)\n",
      "Requirement already satisfied: wsproto>=0.14 in /Library/Frameworks/Python.framework/Versions/3.13/lib/python3.13/site-packages (from trio-websocket~=0.12.2->selenium) (1.2.0)\n",
      "Requirement already satisfied: pysocks!=1.5.7,<2.0,>=1.5.6 in /Library/Frameworks/Python.framework/Versions/3.13/lib/python3.13/site-packages (from urllib3[socks]<3.0,>=2.5.0->selenium) (1.7.1)\n",
      "Requirement already satisfied: h11<1,>=0.9.0 in /Library/Frameworks/Python.framework/Versions/3.13/lib/python3.13/site-packages (from wsproto>=0.14->trio-websocket~=0.12.2->selenium) (0.16.0)\n",
      "\n",
      "\u001b[1m[\u001b[0m\u001b[34;49mnotice\u001b[0m\u001b[1;39;49m]\u001b[0m\u001b[39;49m A new release of pip is available: \u001b[0m\u001b[31;49m25.0.1\u001b[0m\u001b[39;49m -> \u001b[0m\u001b[32;49m25.2\u001b[0m\n",
      "\u001b[1m[\u001b[0m\u001b[34;49mnotice\u001b[0m\u001b[1;39;49m]\u001b[0m\u001b[39;49m To update, run: \u001b[0m\u001b[32;49mpip3 install --upgrade pip\u001b[0m\n"
     ]
    }
   ],
   "source": [
    "!pip3 install selenium\n",
    "!mkdir -p data\n",
    "from selenium import webdriver\n",
    "from selenium.webdriver.chrome.service import Service\n",
    "from selenium.webdriver.common.by import By\n",
    "from selenium.common.exceptions import StaleElementReferenceException, NoSuchElementException\n",
    "import os\n",
    "import json"
   ]
  },
  {
   "cell_type": "code",
   "execution_count": 5,
   "id": "ca730e01",
   "metadata": {},
   "outputs": [],
   "source": [
    "# selenium setups\n",
    "## https://www.tutorialspoint.com/selenium/selenium_webdriver_chrome_webdriver_options.htm\n",
    "\n",
    "chrome_options = webdriver.ChromeOptions()\n",
    "\n",
    "# chrome_options.add_argument('--headless') # must options for Google Colab\n",
    "chrome_options.add_argument('--no-sandbox')\n",
    "chrome_options.add_argument('--disable-dev-shm-usage')\n",
    "chrome_options.add_argument(\"--disable-extensions\")\n",
    "chrome_options.add_argument(\"--disable-gpu\")\n"
   ]
  },
  {
   "cell_type": "code",
   "execution_count": 6,
   "id": "8f6090f7",
   "metadata": {},
   "outputs": [],
   "source": [
    "MAGAZINE_NAME = \"vietnamnet\"\n",
    "HOME_PAGE = \"https://vietnamnet.vn/\""
   ]
  },
  {
   "cell_type": "markdown",
   "id": "2a524291",
   "metadata": {},
   "source": [
    "# Thu thập dữ liệu"
   ]
  },
  {
   "cell_type": "code",
   "execution_count": 7,
   "id": "b43ac99d",
   "metadata": {},
   "outputs": [],
   "source": [
    "driver = webdriver.Chrome(options=chrome_options)\n",
    "# Vào trang web chính, mặc định phải chờ toàn bộ trang webload mới xong\n",
    "driver.get(HOME_PAGE)"
   ]
  },
  {
   "cell_type": "code",
   "execution_count": 8,
   "id": "c407fce0",
   "metadata": {},
   "outputs": [],
   "source": [
    "# Lấy hết tất cả thể loại từ đây\n",
    "cats = []\n",
    "\n",
    "#### CODE\n",
    "# row_menu = driver.find_elements(by=By.CLASS_NAME, value=\"header_submenu-content\")\n",
    "sub_menu = driver.find_element(by=By.CLASS_NAME, value=\"header_submenu-content-list\")\n",
    "\n",
    "cat_menus = sub_menu.find_elements(by=By.TAG_NAME, value=\"a\")\n",
    "\n",
    "for cat_name in cat_menus:\n",
    "    cat = cat_name.get_attribute(\"title\").strip()\n",
    "    href = cat_name.get_attribute(\"href\").strip()\n",
    "    \n",
    "    # bỏ qua logo-premium, logo-htvn\n",
    "    if cat == \"premium vietnamnet\" or cat == \"Hành trình Việt Nam\":\n",
    "        continue\n",
    "    else:\n",
    "        cats.append({\"cat_names\": cat, \"url\": href})\n",
    "####"
   ]
  },
  {
   "cell_type": "code",
   "execution_count": 9,
   "id": "9ac3f218",
   "metadata": {},
   "outputs": [
    {
     "data": {
      "text/plain": [
       "([{'cat_names': 'Chính trị', 'url': 'https://vietnamnet.vn/chinh-tri'},\n",
       "  {'cat_names': 'Thời sự', 'url': 'https://vietnamnet.vn/thoi-su'},\n",
       "  {'cat_names': 'Kinh doanh', 'url': 'https://vietnamnet.vn/kinh-doanh'},\n",
       "  {'cat_names': 'Dân tộc và Tôn giáo',\n",
       "   'url': 'https://vietnamnet.vn/dan-toc-ton-giao'},\n",
       "  {'cat_names': 'Thể thao', 'url': 'https://vietnamnet.vn/the-thao'},\n",
       "  {'cat_names': 'Giáo dục', 'url': 'https://vietnamnet.vn/giao-duc'},\n",
       "  {'cat_names': 'Thế giới', 'url': 'https://vietnamnet.vn/the-gioi'},\n",
       "  {'cat_names': 'Đời sống', 'url': 'https://vietnamnet.vn/doi-song'},\n",
       "  {'cat_names': 'Văn hóa - Giải trí',\n",
       "   'url': 'https://vietnamnet.vn/van-hoa-giai-tri'},\n",
       "  {'cat_names': 'Sức khỏe', 'url': 'https://vietnamnet.vn/suc-khoe'},\n",
       "  {'cat_names': 'Công nghệ', 'url': 'https://vietnamnet.vn/cong-nghe'},\n",
       "  {'cat_names': 'Pháp luật', 'url': 'https://vietnamnet.vn/phap-luat'},\n",
       "  {'cat_names': 'Ô tô xe máy', 'url': 'https://vietnamnet.vn/oto-xe-may'},\n",
       "  {'cat_names': 'Du lịch', 'url': 'https://vietnamnet.vn/du-lich'},\n",
       "  {'cat_names': 'Bất động sản', 'url': 'https://vietnamnet.vn/bat-dong-san'},\n",
       "  {'cat_names': 'Bạn đọc', 'url': 'https://vietnamnet.vn/ban-doc'},\n",
       "  {'cat_names': 'Tuần Việt Nam', 'url': 'https://vietnamnet.vn/tuan-viet-nam'},\n",
       "  {'cat_names': 'Toàn văn',\n",
       "   'url': 'https://vietnamnet.vn/dai-hoi-dang-lan-thu-xiii/nhan-su-toan-van.html'},\n",
       "  {'cat_names': 'Công nghiệp hỗ trợ',\n",
       "   'url': 'https://vietnamnet.vn/hop-tac/cong-nghiep-ho-tro'},\n",
       "  {'cat_names': 'Bảo vệ người tiêu dùng',\n",
       "   'url': 'https://vietnamnet.vn/bao-ve-nguoi-tieu-dung'},\n",
       "  {'cat_names': 'Thị trường tiêu dùng',\n",
       "   'url': 'https://vietnamnet.vn/thi-truong-tieu-dung'},\n",
       "  {'cat_names': 'Giảm nghèo bền vững',\n",
       "   'url': 'https://giamngheobenvung.vietnamnet.vn/'},\n",
       "  {'cat_names': 'Nông thôn mới', 'url': 'https://vietnamnet.vn/nong-thon-moi'},\n",
       "  {'cat_names': 'Dân tộc thiểu số và miền núi',\n",
       "   'url': 'https://vietnamnet.vn/dan-toc-thieu-so-va-mien-nui'},\n",
       "  {'cat_names': 'Nội dung chuyên đề',\n",
       "   'url': 'https://vietnamnet.vn/noi-dung-chuyen-de'},\n",
       "  {'cat_names': 'English', 'url': 'https://vietnamnet.vn/en'},\n",
       "  {'cat_names': 'Đính chính', 'url': 'https://vietnamnet.vn/dinh-chinh'}],\n",
       " 27)"
      ]
     },
     "execution_count": 9,
     "metadata": {},
     "output_type": "execute_result"
    }
   ],
   "source": [
    "cats, len(cats)"
   ]
  },
  {
   "cell_type": "code",
   "execution_count": 10,
   "id": "84f90aa3",
   "metadata": {},
   "outputs": [
    {
     "name": "stdout",
     "output_type": "stream",
     "text": [
      "11\n",
      "{'cat_names': 'Chính trị', 'url': 'https://vietnamnet.vn/chinh-tri'}\n",
      "{'cat_names': 'Thời sự', 'url': 'https://vietnamnet.vn/thoi-su'}\n",
      "{'cat_names': 'Kinh doanh', 'url': 'https://vietnamnet.vn/kinh-doanh'}\n",
      "{'cat_names': 'Thể thao', 'url': 'https://vietnamnet.vn/the-thao'}\n",
      "{'cat_names': 'Giáo dục', 'url': 'https://vietnamnet.vn/giao-duc'}\n",
      "{'cat_names': 'Thế giới', 'url': 'https://vietnamnet.vn/the-gioi'}\n",
      "{'cat_names': 'Văn hóa - Giải trí', 'url': 'https://vietnamnet.vn/van-hoa-giai-tri'}\n",
      "{'cat_names': 'Sức khỏe', 'url': 'https://vietnamnet.vn/suc-khoe'}\n",
      "{'cat_names': 'Công nghệ', 'url': 'https://vietnamnet.vn/cong-nghe'}\n",
      "{'cat_names': 'Pháp luật', 'url': 'https://vietnamnet.vn/phap-luat'}\n",
      "{'cat_names': 'Du lịch', 'url': 'https://vietnamnet.vn/du-lich'}\n"
     ]
    }
   ],
   "source": [
    "TARGET_CATS = [\n",
    "    \"Chính trị\",\n",
    "    \"Thời sự\",\n",
    "    \"Kinh doanh\",\n",
    "    \"Văn hóa - Giải trí\",\n",
    "    \"Sức khỏe\",\n",
    "    \"Pháp luật\",\n",
    "    \"Thế giới\",\n",
    "    \"Công nghệ\",\n",
    "    \"Thể thao\",\n",
    "    \"Du lịch\",\n",
    "    \"Giáo dục\"\n",
    "]\n",
    "\n",
    "filtered_cats = [c for c in cats if c['cat_names'] in TARGET_CATS]\n",
    "\n",
    "print(len(filtered_cats))\n",
    "for c in filtered_cats:\n",
    "    print(c)\n"
   ]
  },
  {
   "cell_type": "markdown",
   "id": "e60a3ec8",
   "metadata": {},
   "source": [
    "# Thu thập URL bài báo"
   ]
  },
  {
   "cell_type": "code",
   "execution_count": 11,
   "id": "65037683",
   "metadata": {},
   "outputs": [],
   "source": [
    "NUM_ARTICLES_PER_CAT = 10 # có thể tăng lên\n",
    "\n",
    "DATA_URL_FILE = \"data/vietnamnet_url.json\"\n",
    "\n",
    "# Bổ sung cài đặt chromedriver\n",
    "## Ta đặt load stategy ở đây là normal: https://www.selenium.dev/documentation/webdriver/drivers/options/\n",
    "chrome_options.page_load_strategy = \"normal\"\n",
    "driver = webdriver.Chrome(options=chrome_options)"
   ]
  },
  {
   "cell_type": "markdown",
   "id": "568ae3c4",
   "metadata": {},
   "source": [
    "## Thử nghiệm"
   ]
  },
  {
   "cell_type": "code",
   "execution_count": 12,
   "id": "81f723c5",
   "metadata": {},
   "outputs": [],
   "source": [
    "driver = webdriver.Chrome(options=chrome_options)"
   ]
  },
  {
   "cell_type": "code",
   "execution_count": 13,
   "id": "0acea722",
   "metadata": {},
   "outputs": [
    {
     "data": {
      "text/plain": [
       "'https://vietnamnet.vn/thoi-su'"
      ]
     },
     "execution_count": 13,
     "metadata": {},
     "output_type": "execute_result"
    }
   ],
   "source": [
    "filtered_cats[1]['url']"
   ]
  },
  {
   "cell_type": "code",
   "execution_count": 15,
   "id": "a9e3078e",
   "metadata": {},
   "outputs": [],
   "source": [
    "driver.get(filtered_cats[1]['url'])"
   ]
  },
  {
   "cell_type": "code",
   "execution_count": 16,
   "id": "05348a50",
   "metadata": {},
   "outputs": [
    {
     "name": "stdout",
     "output_type": "stream",
     "text": [
      "Màn đối đáp 'cực gắt' khiến kẻ giả danh cán bộ thuế nghẹn ngào thú tội\n"
     ]
    }
   ],
   "source": [
    "title_news = driver.find_elements(by=By.CLASS_NAME, value=\"vnn-title\")\n",
    "print(title_news[0].text)"
   ]
  },
  {
   "cell_type": "code",
   "execution_count": 17,
   "id": "70871bba",
   "metadata": {},
   "outputs": [
    {
     "name": "stdout",
     "output_type": "stream",
     "text": [
      "https://vietnamnet.vn/man-doi-dap-cuc-gat-khien-ke-gia-danh-can-bo-thue-nghen-ngao-thu-toi-2433305.html\n"
     ]
    }
   ],
   "source": [
    "url_new = title_news[0].find_element(by=By.TAG_NAME, value=\"a\").get_attribute(\"href\")\n",
    "print(url_new)"
   ]
  },
  {
   "cell_type": "code",
   "execution_count": 18,
   "id": "fffe17ec",
   "metadata": {},
   "outputs": [
    {
     "name": "stdout",
     "output_type": "stream",
     "text": [
      "https://vietnamnet.vn/du-bao-thoi-tiet-20-8-2025-mien-bac-nang-den-34-do-van-xuat-hien-mua-to-cuc-bo-2433768.html\n"
     ]
    }
   ],
   "source": [
    "# Tìm layout thứ 2 của trang web\n",
    "\n",
    "#### CODE\n",
    "page_numbers = driver.find_element(by=By.CLASS_NAME, value=\"topStory-2nd\")\n",
    "next_page = page_numbers.find_elements(by=By.TAG_NAME, value=\"a\")\n",
    "# print(len(next_page))\n",
    "# print(next_page[0].get_attribute(\"href\"))\n",
    "# print(next_page[1].get_attribute(\"href\"))\n",
    "# print(next_page[2].get_attribute(\"href\"))\n",
    "# print(next_page[3].get_attribute(\"href\"))\n",
    "# print(next_page[4].get_attribute(\"href\"))\n",
    "# print(next_page[5].get_attribute(\"href\"))\n",
    "next_page = next_page[3].get_attribute(\"href\")\n",
    "print(next_page)"
   ]
  },
  {
   "cell_type": "code",
   "execution_count": 19,
   "id": "b94135fd",
   "metadata": {},
   "outputs": [],
   "source": [
    "driver.close()"
   ]
  },
  {
   "cell_type": "markdown",
   "id": "3b2f1913",
   "metadata": {},
   "source": [
    "## Chạy thật"
   ]
  },
  {
   "cell_type": "code",
   "execution_count": 20,
   "id": "18dfaa42",
   "metadata": {},
   "outputs": [],
   "source": [
    "driver = webdriver.Chrome(options=chrome_options)"
   ]
  },
  {
   "cell_type": "code",
   "execution_count": 21,
   "id": "3ada14fd",
   "metadata": {},
   "outputs": [],
   "source": [
    "NUM_ARTICLES_PER_CAT = 3\n",
    "crawled_urls = set()\n",
    "\n",
    "def get_avatar_url_by_article_url(driver, article_url):\n",
    "    try:\n",
    "        avatar_divs = driver.find_elements(by=By.CLASS_NAME, value=\"verticalPost__avt\")\n",
    "        \n",
    "        for avatar_div in avatar_divs:\n",
    "            try:\n",
    "                link_element = avatar_div.find_element(by=By.TAG_NAME, value=\"a\")\n",
    "                href = link_element.get_attribute(\"href\")\n",
    "                \n",
    "                # Nếu href match với article_url (có thể là relative hoặc absolute)\n",
    "                if href and (href == article_url or article_url.endswith(href) or href in article_url):\n",
    "                    img_element = avatar_div.find_element(by=By.TAG_NAME, value=\"img\")\n",
    "                    print(f\"Found avatar for {article_url}: {img_element.get_attribute('src')}\")\n",
    "                    return img_element.get_attribute(\"src\")\n",
    "                \n",
    "            except NoSuchElementException:\n",
    "                continue\n",
    "        \n",
    "        return None\n",
    "    except Exception as e:\n",
    "        print(f\"Error getting avatar for {article_url}: {e}\")\n",
    "        return None\n",
    "\n",
    "def crawl_each_category_url(driver, category_url):\n",
    "    all_data = []\n",
    "    url = category_url\n",
    "    \n",
    "    while len(all_data) < NUM_ARTICLES_PER_CAT:\n",
    "        driver.get(url)\n",
    "        title_news = driver.find_elements(by=By.CLASS_NAME, value=\"vnn-title\")\n",
    "        \n",
    "        for title in title_news:\n",
    "            try:\n",
    "                url_new = title.find_element(by=By.TAG_NAME, value=\"a\").get_attribute(\"href\")\n",
    "                if url_new.startswith(HOME_PAGE) and url_new not in crawled_urls:\n",
    "                    avatar_url = get_avatar_url_by_article_url(driver, url_new)\n",
    "                    \n",
    "                    article_data = {\n",
    "                        \"url\": url_new,\n",
    "                        \"url_img\": avatar_url\n",
    "                    }\n",
    "                    \n",
    "                    all_data.append(article_data)\n",
    "                    crawled_urls.add(url_new)\n",
    "\n",
    "                    if len(all_data) >= NUM_ARTICLES_PER_CAT:\n",
    "                        break\n",
    "                        \n",
    "            except (StaleElementReferenceException, NoSuchElementException):\n",
    "                continue\n",
    "\n",
    "            except Exception as e:\n",
    "                print(f\"Error processing article: {e}\")\n",
    "        \n",
    "        if len(all_data) >= NUM_ARTICLES_PER_CAT:\n",
    "            break\n",
    "        \n",
    "        try:\n",
    "            next_pages = driver.find_element(by=By.CLASS_NAME, value=\"pagination__list\")\n",
    "            url = next_pages.find_elements(by=By.TAG_NAME, value=\"a\")[6].get_attribute(\"href\")\n",
    "        except (NoSuchElementException, IndexError):\n",
    "            print(\"Cannot find next page, stopping crawl for this category\")\n",
    "            break\n",
    "    \n",
    "    return all_data\n",
    "\n",
    "    "
   ]
  },
  {
   "cell_type": "code",
   "execution_count": 22,
   "id": "a2a1e865",
   "metadata": {},
   "outputs": [
    {
     "name": "stdout",
     "output_type": "stream",
     "text": [
      "You are at {'cat_names': 'Chính trị', 'url': 'https://vietnamnet.vn/chinh-tri'}.\n",
      "Found avatar for https://vietnamnet.vn/quy-dinh-moi-ve-cac-truong-hop-mien-giam-tien-su-dung-dat-tien-thue-dat-2433921.html: https://static-images.vnncdn.net/vps_images_publish/000001/000003/2025/8/20/quy-dinh-moi-ve-cac-truong-hop-mien-giam-tien-su-dung-dat-tien-thue-dat-549.jpeg?width=550&s=r7mXsWGDUz1nFREstkCRWQ\n",
      "Found avatar for https://vietnamnet.vn/bo-quoc-phong-de-xuat-thanh-lap-ban-chi-dao-phong-khong-nhan-dan-trung-uong-2433796.html: https://static-images.vnncdn.net/vps_images_publish/000001/000003/2025/8/19/bo-quoc-phong-de-xuat-thanh-lap-ban-chi-dao-phong-khong-nhan-dan-trung-uong-4199.jpg?width=360&s=98Bu80MT1Lrmp2Jq95SM-w\n",
      "Found avatar for https://vietnamnet.vn/phu-nhan-chu-tich-nuoc-va-hoang-hau-bhutan-van-canh-chua-tran-quoc-duoi-mua-2433621.html: https://static-images.vnncdn.net/vps_images_publish/000001/000003/2025/8/19/phu-nhan-chu-tich-nuoc-va-hoang-hau-bhutan-van-canh-chua-tran-quoc-duoi-mua-dau-thu-2104.jpg?width=360&s=UyWw2dLkheZzTlxi1UnNTg\n",
      "You are at {'cat_names': 'Thời sự', 'url': 'https://vietnamnet.vn/thoi-su'}.\n",
      "Found avatar for https://vietnamnet.vn/man-doi-dap-cuc-gat-khien-ke-gia-danh-can-bo-thue-nghen-ngao-thu-toi-2433305.html: https://static-images.vnncdn.net/vps_images_publish/000001/000003/2025/8/19/man-doi-dap-cuc-gat-khien-ke-gia-danh-can-bo-thue-nghen-ngao-thu-toi-1546.gif?width=550&s=o2b7BQcMjEroZaFOnitZTw\n",
      "Found avatar for https://vietnamnet.vn/nguy-co-rinh-rap-tu-diem-den-loi-di-tu-mo-qua-duong-sat-o-ninh-binh-2432916.html: https://static-images.vnncdn.net/vps_images_publish/000001/000003/2025/8/17/hanh-dong-lieu-linh-cua-nguoi-dan-ninh-binh-khi-song-gan-duong-ray-tau-hoa-998.jpg?width=360&s=Xo-IcBTRm58t6H6s-S8iPg\n",
      "Found avatar for https://vietnamnet.vn/du-bao-thoi-tiet-20-8-2025-mien-bac-nang-den-34-do-van-xuat-hien-mua-to-cuc-bo-2433768.html: https://static-images.vnncdn.net/vps_images_publish/000001/000003/2025/8/20/2025-mien-bac-nang-den-34-do-van-xuat-hien-mua-to-cuc-bo-255.jpg?width=360&s=R4M4D3fBLPTkOTsLldQ3mA\n",
      "You are at {'cat_names': 'Kinh doanh', 'url': 'https://vietnamnet.vn/kinh-doanh'}.\n",
      "Found avatar for https://vietnamnet.vn/gia-xang-ngay-mai-du-bao-tang-tro-lai-2433905.html: https://static-images.vnncdn.net/vps_images_publish/000001/000003/2025/8/20/gia-xang-ngay-mai-du-bao-tang-tro-lai-527.jpg?width=550&s=xN0x_dq061FyXVuvUPRolQ\n",
      "Found avatar for https://vietnamnet.vn/ong-lon-viet-ban-xe-dien-trung-quoc-bat-ngo-doi-van-2433837.html: https://static-images.vnncdn.net/vps_images_publish/000001/000003/2025/8/20/ong-lon-viet-ban-xe-dien-trung-quoc-bat-ngo-doi-van-203.gif?width=360&s=I5iWF2KCK3fITXFPHYL_kQ\n",
      "Found avatar for https://vietnamnet.vn/vietlott-tim-duoc-ve-so-trung-doc-dac-3-4-ty-dong-2433787.html: https://static-images.vnncdn.net/vps_images_publish/000001/000003/2025/8/19/vietlott-tim-duoc-ve-so-trung-doc-dac-tien-ty-3680.jpg?width=360&s=2_7-n_YxG3vlMmEtgtFAEw\n",
      "You are at {'cat_names': 'Thể thao', 'url': 'https://vietnamnet.vn/the-thao'}.\n",
      "Found avatar for https://vietnamnet.vn/lai-thua-nu-viet-nam-nu-thai-lan-lo-lang-sea-games-2025-2433883.html: https://static-images.vnncdn.net/vps_images_publish/000001/000003/2025/8/20/lien-tuc-thua-nu-viet-nam-thai-lan-lo-hut-huy-chuong-sea-games-319.jpg?width=550&s=cwSMVDLI6DLBkPBPBlGdWQ\n",
      "Found avatar for https://vietnamnet.vn/salah-lap-ky-luc-vo-doi-ngoai-hang-anh-isak-vang-vi-ngong-liverpool-2433922.html: https://static-images.vnncdn.net/vps_images_publish/000001/000003/2025/8/20/salah-lap-ky-luc-vo-doi-ngoai-hang-anh-isak-vang-vi-ngong-liverpool-472.jpg?width=360&s=1aTb6G3lXX1VrarpC8WBOg\n",
      "Found avatar for https://vietnamnet.vn/tuyen-bong-chuyen-nu-viet-nam-hao-huc-sang-thai-lan-du-giai-the-gioi-2433825.html: https://static-images.vnncdn.net/vps_images_publish/000001/000003/2025/8/20/tuyen-bong-chuyen-nu-viet-nam-hao-huc-sang-thai-lan-du-giai-the-gioi-334.jpg?width=360&s=Xw8fb0UAu-f8FZ71etVN4A\n",
      "You are at {'cat_names': 'Giáo dục', 'url': 'https://vietnamnet.vn/giao-duc'}.\n",
      "Found avatar for https://vietnamnet.vn/thi-sinh-du-diem-chuan-van-truot-dai-hoc-vi-khong-dap-ung-tieu-chi-phu-2433828.html: https://static-images.vnncdn.net/vps_images_publish/000001/000003/2025/8/20/thi-sinh-du-diem-chuan-van-truot-dai-hoc-vi-khong-dap-ung-tieu-chi-phu-451.jpg?width=550&s=bVQUFVJ12if1vKMwn5lGuQ\n",
      "Found avatar for https://vietnamnet.vn/nghe-an-chi-hon-1-4-ty-dong-thuong-75-hoc-sinh-thi-tot-nghiep-thpt-diem-cao-2433896.html: https://static-images.vnncdn.net/vps_images_publish/000001/000003/2025/8/20/nghe-an-chi-hon-14-ty-dong-thuong-75-hoc-sinh-thi-tot-nghiep-thpt-diem-cao-445.jpg?width=360&s=QQwCwtyoTHrGUB8EyhdZLw\n",
      "Found avatar for https://vietnamnet.vn/diem-chuan-hoc-ba-nam-2025-cao-chot-vot-nhieu-nganh-nhieu-truong-len-toi-29-2433885.html: https://static-images.vnncdn.net/vps_images_publish/000001/000003/2025/8/20/diem-chuan-hoc-ba-nam-2025-cao-chot-vot-nhieu-nganh-nhieu-truong-len-toi-29-274.jpg?width=360&s=X5oZrHGF5rx32AbeaITKHQ\n",
      "You are at {'cat_names': 'Thế giới', 'url': 'https://vietnamnet.vn/the-gioi'}.\n",
      "Found avatar for https://vietnamnet.vn/ong-trump-thuc-day-cuoc-gap-lich-su-giua-tong-thong-nga-va-ukraine-2433904.html: https://static-images.vnncdn.net/vps_images_publish/000001/000003/2025/8/20/ong-trump-thuc-day-cuoc-gap-lich-su-giua-tong-thong-nga-va-ukraine-448.jpg?width=550&s=jhDecPzXDOOGHC7owM7UcA\n",
      "Found avatar for https://vietnamnet.vn/hon-chuc-quoc-gia-chau-au-muon-dieu-linh-tham-gia-dam-bao-an-ninh-cho-ukraine-2433910.html: https://static-images.vnncdn.net/vps_images_publish/000001/000003/2025/8/20/hon-chuc-nuoc-chau-au-muon-cu-linh-tham-gia-dam-bao-an-ninh-cho-ukraine-484.jpg?width=360&s=R87p49J8_YVZ1URDli42vQ\n",
      "Found avatar for https://vietnamnet.vn/nga-khong-dat-muc-tieu-kiem-soat-lanh-tho-ukraine-moi-ong-trump-tham-moscow-2433879.html: https://static-images.vnncdn.net/vps_images_publish/000001/000003/2025/8/20/nga-khong-dat-muc-tieu-kiem-soat-lanh-tho-ukraine-trao-tra-them-1-200.jpg?width=360&s=wUPCawYfmgx--YK4fqY-9A\n",
      "You are at {'cat_names': 'Văn hóa - Giải trí', 'url': 'https://vietnamnet.vn/van-hoa-giai-tri'}.\n",
      "Found avatar for https://vietnamnet.vn/thieu-ta-cong-an-truc-mai-ke-ve-chong-cung-nghe-khong-so-bi-nem-da-vi-vai-ac-2428938.html: https://static-images.vnncdn.net/vps_images_publish/000001/000003/2025/8/18/thieu-ta-cong-an-truc-maike-ve-chong-cung-nghe-khong-so-bi-nem-da-vi-vai-ac-1234.jpg?width=550&s=_m0D_pXIEJLiLjeYpecGWg\n",
      "Found avatar for https://vietnamnet.vn/mai-phuong-thuy-chua-ket-hon-muon-cung-da-muon-roi-dau-thay-doi-duoc-gi-2430568.html: https://static-images.vnncdn.net/vps_images_publish/000001/000003/2025/8/11/maiphuongthuy-ava-1699.jpg?width=360&s=Q3ohrdKL8GTi_j0sGaXGTQ\n",
      "Found avatar for https://vietnamnet.vn/gio-ngang-khoang-troi-xanh-tap-6-my-anh-mau-thuan-voi-chong-2433891.html: https://static-images.vnncdn.net/vps_images_publish/000001/000003/2025/8/20/gio-ngang-khoang-troi-xanh-tap-6-my-anh-mau-thuan-voi-chong-386.gif?width=360&s=ap59Tcxfi3H69uxdvbeMfg\n",
      "You are at {'cat_names': 'Sức khỏe', 'url': 'https://vietnamnet.vn/suc-khoe'}.\n",
      "Found avatar for https://vietnamnet.vn/tre-21-thang-tuoi-phai-cap-cuu-sau-khi-con-ran-den-trang-bo-ben-canh-2433899.html: https://static-images.vnncdn.net/vps_images_publish/000001/000003/2025/8/20/tre-21-thang-phai-cap-cuu-sau-khi-con-ran-den-trang-bo-ben-canh-482.jpg?width=550&s=rMoOPF1wrqvW0eodBM7f7g\n",
      "Found avatar for https://vietnamnet.vn/thu-tuc-kham-chua-benh-cap-cuu-theo-dien-bhyt-moi-nhat-theo-quy-dinh-cua-bo-y-te-2433171.html: https://static-images.vnncdn.net/vps_images_publish/000001/000003/2025/8/19/cap-cuu-3815.jpeg?width=360&s=QkJPZp6CpFlVFay7e6MJPA\n",
      "Found avatar for https://vietnamnet.vn/no-cuc-sac-dien-thoai-tu-che-nguoi-dan-ong-nhap-vien-roi-chuyen-tuyen-tren-2433903.html: https://static-images.vnncdn.net/vps_images_publish/000001/000003/2025/8/20/no-cuc-sac-dien-thoai-tu-che-nguoi-dan-ong-phai-di-cap-cuu-chuyen-tuyen-tren-518.jpg?width=360&s=Fq7maHqCnnOENWKOmhwxFA\n",
      "You are at {'cat_names': 'Công nghệ', 'url': 'https://vietnamnet.vn/cong-nghe'}.\n",
      "Found avatar for https://vietnamnet.vn/xe-tang-frankenstein-ukraine-sieu-vu-khi-lai-tao-tu-sat-vun-chien-truong-2433634.html: https://static-images.vnncdn.net/vps_images_publish/000001/000003/2025/8/19/ukraine-va-cong-nghe-xe-tang-frankenstein-sieu-vu-khi-lai-tao-tu-sat-vun-chien-truong-4281.gif?width=550&s=zNgfdizPLECbkpC4mq1jUA\n",
      "Found avatar for https://vietnamnet.vn/iphone-17-series-pin-lon-sieu-mong-va-nhieu-ky-vong-tu-apple-mua-thu-nay-2433753.html: https://static-images.vnncdn.net/vps_images_publish/000001/000003/2025/8/19/iphone-17-series-pin-lon-sieu-mong-va-nhieu-ky-vong-tu-apple-mua-thu-nay-3190.gif?width=360&s=BGl6zs6NDQuxKh8LqG5R5g\n",
      "Found avatar for https://vietnamnet.vn/tho-nhi-ky-tung-xe-tang-laser-alka-kaplan-huy-diet-uav-trong-nhay-mat-2433586.html: https://static-images.vnncdn.net/vps_images_publish/000001/000003/2025/8/19/tho-nhi-ky-tung-cong-nghe-xe-tang-laser-huy-diet-uav-gioi-quan-su-toan-cau-choang-vang-2212.gif?width=360&s=KGtcITsNl6bp0akx0dIvXQ\n",
      "You are at {'cat_names': 'Pháp luật', 'url': 'https://vietnamnet.vn/phap-luat'}.\n",
      "Found avatar for https://vietnamnet.vn/bat-coc-doanh-nhan-va-nhung-man-tra-tan-da-man-ep-chi-tien-2433820.html: https://static-images.vnncdn.net/vps_images_publish/000001/000003/2025/8/19/bat-coc-doanh-nhan-va-nhung-man-tra-tan-da-man-ep-chi-tien-4155.png?width=550&s=eXJuD6o3ezdLTRmQsOUKoQ\n",
      "Found avatar for https://vietnamnet.vn/tu-hinh-ba-ban-bun-rieu-sat-hai-ong-giao-thit-heo-2433686.html: https://static-images.vnncdn.net/vps_images_publish/000001/000003/2025/8/19/tu-hinh-ba-ban-bun-rieu-sat-hai-ong-giao-thit-heo-2112.jpg?width=360&s=vOGDzs2acAgvkdbASHIp_g\n",
      "Found avatar for https://vietnamnet.vn/hai-nguoi-trung-quoc-trom-hon-600-trieu-dong-chuan-bi-ra-san-bay-bo-tron-2433653.html: https://static-images.vnncdn.net/vps_images_publish/000001/000003/2025/8/19/hai-nguoi-trung-quoc-trom-hon-600-trieu-dong-chuan-bi-ra-san-bay-bo-tron-1807.jpg?width=360&s=laCBwbc5dzD0IrOU0M053g\n",
      "You are at {'cat_names': 'Du lịch', 'url': 'https://vietnamnet.vn/du-lich'}.\n",
      "Found avatar for https://vietnamnet.vn/khach-my-me-man-mot-mon-trong-ngo-ha-noi-san-sang-di-ca-tieng-de-an-2433520.html: https://static-images.vnncdn.net/vps_images_publish/000001/000003/2025/8/19/khach-my-me-man-mot-mon-trong-ngo-ha-noi-san-sang-di-ca-tieng-de-an-3157.gif?width=550&s=Mb8c0Iiz2tSo1G8qa_jf3Q\n",
      "Found avatar for https://vietnamnet.vn/khach-tay-cuoi-vang-khi-cuoi-trau-up-ca-giua-dong-que-ninh-binh-2433334.html: https://static-images.vnncdn.net/vps_images_publish/000001/000003/2025/8/19/khach-tay-cuoi-vang-khi-cuoi-trau-up-ca-giua-dong-que-ninh-binh-1145.gif?width=360&s=MlsJtOumQvGujLXXAHSt3Q\n",
      "Found avatar for https://vietnamnet.vn/vi-sao-hanh-khach-luon-len-xuong-may-bay-bang-cua-ben-trai-2433645.html: https://static-images.vnncdn.net/vps_images_publish/000001/000003/2025/8/19/vi-sao-hanh-khach-luon-len-xuong-may-bay-bang-cua-ben-trai-1866.jpg?width=360&s=4QQX0qXvWreJHkYNl4DGzA\n"
     ]
    }
   ],
   "source": [
    "saved_cats = {}\n",
    "for cat in cats:\n",
    "    cat_name = cat['cat_names']\n",
    "    url = cat['url']\n",
    "    if cat_name in TARGET_CATS:\n",
    "        print(f\"You are at {cat}.\")\n",
    "        article_data = crawl_each_category_url(driver, url)\n",
    "        saved_cats[cat_name] = article_data\n",
    "\n",
    "\n",
    "with open(DATA_URL_FILE, \"w\", encoding=\"utf-8\") as fOut:\n",
    "    json.dump(saved_cats, fOut, ensure_ascii=False, indent=4)\n",
    "\n",
    "driver.close()"
   ]
  },
  {
   "cell_type": "code",
   "execution_count": 23,
   "id": "bbbbe7b1",
   "metadata": {},
   "outputs": [
    {
     "data": {
      "text/plain": [
       "33"
      ]
     },
     "execution_count": 23,
     "metadata": {},
     "output_type": "execute_result"
    }
   ],
   "source": [
    "len(crawled_urls)"
   ]
  },
  {
   "cell_type": "markdown",
   "id": "e6235de3",
   "metadata": {},
   "source": [
    "# Thu thập thông tin bài báo"
   ]
  },
  {
   "cell_type": "code",
   "execution_count": 24,
   "id": "c7b755f1",
   "metadata": {},
   "outputs": [],
   "source": [
    "# Filepath cho cái trước\n",
    "FILE_URL_PATH = \"data/vietnamnet_url.json\"\n",
    "\n",
    "# Đặt limit số articles lấy từ mỗi thể loại\n",
    "MAX_ARTICLES_PER_CAT = 2 # Nếu set = None thì là tất cả các urls ở file trước\n",
    "\n",
    "# Data output, mỗi thể loại là 1 file json chứa articles\n",
    "DATA_FOLDER_OUTPUT = \"data\\\\vietnamnet\"\n",
    "\n",
    "!mkdir -p $DATA_FOLDER_OUTPUT\n",
    "\n",
    "# Để loading strategy về eager load nhanh, không quan tâm ảnh\n",
    "chrome_options.page_load_strategy = \"eager\""
   ]
  },
  {
   "cell_type": "code",
   "execution_count": 25,
   "id": "42e8cc25",
   "metadata": {},
   "outputs": [
    {
     "data": {
      "text/plain": [
       "11"
      ]
     },
     "execution_count": 25,
     "metadata": {},
     "output_type": "execute_result"
    }
   ],
   "source": [
    "# Đọc file url\n",
    "\n",
    "with open(FILE_URL_PATH, \"r\", encoding=\"utf-8\") as fIn:\n",
    "    url_data = json.load(fIn)\n",
    "\n",
    "len(url_data)"
   ]
  },
  {
   "cell_type": "markdown",
   "id": "66ae15a3",
   "metadata": {},
   "source": [
    "## Chạy thử nghiệm"
   ]
  },
  {
   "cell_type": "code",
   "execution_count": 67,
   "id": "a2dcdc07",
   "metadata": {},
   "outputs": [],
   "source": [
    "driver = webdriver.Chrome(options=chrome_options)\n"
   ]
  },
  {
   "cell_type": "code",
   "execution_count": 68,
   "id": "2c376684",
   "metadata": {},
   "outputs": [],
   "source": [
    "\n",
    "# Một số url để thử nghiệm\n",
    "\n",
    "SAMPLE_ARTICLE_URLS = [\n",
    "        {\n",
    "            \"url\": \"https://vietnamnet.vn/man-doi-dap-cuc-gat-khien-ke-gia-danh-can-bo-thue-nghen-ngao-thu-toi-2433305.html\",\n",
    "            \"url_img\": \"https://static-images.vnncdn.net/vps_images_publish/000001/000003/2025/8/19/man-doi-dap-cuc-gat-khien-ke-gia-danh-can-bo-thue-nghen-ngao-thu-toi-1546.gif?width=550&s=o2b7BQcMjEroZaFOnitZTw\"\n",
    "        },\n",
    "        {\n",
    "            \"url\": \"https://vietnamnet.vn/nguy-co-rinh-rap-tu-diem-den-loi-di-tu-mo-qua-duong-sat-o-ninh-binh-2432916.html\",\n",
    "            \"url_img\": \"https://static-images.vnncdn.net/vps_images_publish/000001/000003/2025/8/17/hanh-dong-lieu-linh-cua-nguoi-dan-ninh-binh-khi-song-gan-duong-ray-tau-hoa-998.jpg?width=360&s=Xo-IcBTRm58t6H6s-S8iPg\"\n",
    "        },\n",
    "        {\n",
    "            \"url\": \"https://vietnamnet.vn/du-bao-thoi-tiet-20-8-2025-mien-bac-nang-den-34-do-van-xuat-hien-mua-to-cuc-bo-2433768.html\",\n",
    "            \"url_img\": \"https://static-images.vnncdn.net/vps_images_publish/000001/000003/2025/8/20/2025-mien-bac-nang-den-34-do-van-xuat-hien-mua-to-cuc-bo-255.jpg?width=360&s=R4M4D3fBLPTkOTsLldQ3mA\"\n",
    "        }\n",
    "]\n",
    "\n",
    "# chọn url\n",
    "SAMPLE_ARTICLE_URL = SAMPLE_ARTICLE_URLS[2]"
   ]
  },
  {
   "cell_type": "code",
   "execution_count": 70,
   "id": "0082257b",
   "metadata": {},
   "outputs": [
    {
     "name": "stdout",
     "output_type": "stream",
     "text": [
      "Đã lưu 3 bài vào articles.json\n"
     ]
    }
   ],
   "source": [
    "import json\n",
    "from selenium.webdriver.common.by import By\n",
    "from selenium.common.exceptions import NoSuchElementException\n",
    "\n",
    "def get_content_metadata(driver, article_url, url_img=None):\n",
    "    \"\"\"\n",
    "    Extracts and returns metadata and content from a given article URL.\n",
    "\n",
    "    :param driver: Selenium WebDriver instance.\n",
    "    :param article_url: URL of the article to extract data from.\n",
    "    :param url_img: (optional) URL of the article's thumbnail/cover image.\n",
    "    :return: Dictionary containing article metadata and content.\n",
    "    \"\"\"\n",
    "\n",
    "    # Get to current article\n",
    "    driver.get(article_url)\n",
    "\n",
    "    # Title & description\n",
    "    title = driver.find_element(By.CSS_SELECTOR, \"h1.content-detail-title\").text.strip()\n",
    "    description = driver.find_element(By.CLASS_NAME, \"sm-sapo-mb-0\").text.strip()\n",
    "\n",
    "    # ---- Categories\n",
    "    lis_cat = []\n",
    "    try:\n",
    "        cats = driver.find_element(By.CLASS_NAME, \"sm-show-time\")\n",
    "        lis_cats = cats.find_elements(By.TAG_NAME, \"li\")\n",
    "        lis_cats = lis_cats[1:]\n",
    "        for cat in lis_cats:\n",
    "            category = cat.text.strip()\n",
    "            if category:\n",
    "                lis_cat.append(category)\n",
    "    except NoSuchElementException:\n",
    "        pass\n",
    "\n",
    "    main_cat = lis_cat[0] if lis_cat else \"Unknown\"\n",
    "    sub_cat_val = lis_cat[-1] if len(lis_cat) > 1 else \"None\"\n",
    "\n",
    "    # ---- Published date\n",
    "    try:\n",
    "        published_date = driver.find_element(By.CLASS_NAME, \"bread-crumb-detail__time\").text.strip()\n",
    "    except NoSuchElementException:\n",
    "        published_date = \"\"\n",
    "\n",
    "    # ---- Content\n",
    "    contents = []\n",
    "    author_str = \"Unknown\"     # final string for author\n",
    "    article = driver.find_element(By.CLASS_NAME, \"main-content\")\n",
    "    children = article.find_elements(By.XPATH, \"./*\")\n",
    "\n",
    "    for child in children:\n",
    "        text = child.text.strip()\n",
    "        if not text:\n",
    "            continue\n",
    "\n",
    "        if child.tag_name.lower() in {\"p\", \"h1\", \"h2\", \"h3\", \"h4\"}:\n",
    "            contents.append(text)\n",
    "\n",
    "        elif child.tag_name.lower() == \"figure\":\n",
    "            # Caption (<=100) bọc trong [] ; dài hơn coi như đoạn nội dung\n",
    "            if len(text) <= 100:\n",
    "                contents.append(f\"[{text}]\")\n",
    "            else:\n",
    "                contents.append(text)\n",
    "        # tables & others are ignored\n",
    "\n",
    "    # ---- Author(s)\n",
    "    authors = []\n",
    "    try:\n",
    "        wrapper = driver.find_element(By.CLASS_NAME, \"article-detail-author-wrapper\")\n",
    "        author_names = wrapper.find_elements(By.CLASS_NAME, \"name\")\n",
    "        for a in author_names:\n",
    "            # ưu tiên <a title=\"...\">, fallback text\n",
    "            t = (a.find_element(By.CSS_SELECTOR, \"a\").get_attribute(\"title\") \n",
    "                 if len(a.find_elements(By.CSS_SELECTOR, \"a\")) \n",
    "                 else a.text).strip()\n",
    "            if t:\n",
    "                authors.append(t)\n",
    "    except NoSuchElementException:\n",
    "        pass\n",
    "\n",
    "    if authors:\n",
    "        author_str = \", \".join(dict.fromkeys(authors))  # unique & stable order\n",
    "    else:\n",
    "        # fallback: cố gắng lấy dòng cuối giống dạng chữ ký tác giả\n",
    "        if contents:\n",
    "            last = contents[-1]\n",
    "            dash_pos = last.find('-')\n",
    "            if 0 <= dash_pos <= 30:\n",
    "                # ví dụ: \"Nguyễn A - Tổng hợp\"\n",
    "                possible = last[:dash_pos].strip()\n",
    "                if possible:\n",
    "                    author_str = possible\n",
    "\n",
    "    return {\n",
    "        \"url\": article_url,\n",
    "        \"url_img\": url_img,                # <-- added\n",
    "        \"title\": title,\n",
    "        \"description\": description,\n",
    "        \"content\": \"\\n\".join(contents),\n",
    "        \"metadata\": {\n",
    "            \"cat\": main_cat,\n",
    "            \"subcat\": sub_cat_val,\n",
    "            \"published_date\": published_date,\n",
    "            \"author\": author_str\n",
    "        }\n",
    "    }\n",
    "\n",
    "# ---- Crawl & save JSON\n",
    "results = []\n",
    "for item in SAMPLE_ARTICLE_URLS:\n",
    "    data = get_content_metadata(driver, item[\"url\"], url_img=item.get(\"url_img\"))\n",
    "    results.append(data)\n",
    "\n",
    "with open(\"articles.json\", \"w\", encoding=\"utf-8\") as f:\n",
    "    json.dump(results, f, ensure_ascii=False, indent=2)\n",
    "\n",
    "print(\"Đã lưu 3 bài vào articles.json\")\n"
   ]
  },
  {
   "cell_type": "code",
   "execution_count": 63,
   "id": "f482cef5",
   "metadata": {},
   "outputs": [],
   "source": [
    "driver.close()"
   ]
  },
  {
   "cell_type": "markdown",
   "id": "f12ceb06",
   "metadata": {},
   "source": [
    "## Chạy thật"
   ]
  },
  {
   "cell_type": "code",
   "execution_count": 71,
   "id": "45125f11",
   "metadata": {},
   "outputs": [],
   "source": [
    "import json\n",
    "from selenium.webdriver.common.by import By\n",
    "from selenium.common.exceptions import NoSuchElementException\n",
    "\n",
    "def get_content_metadata(driver, article_url, url_img=None):\n",
    "    \"\"\"\n",
    "    Extracts and returns metadata and content from a given article URL.\n",
    "\n",
    "    :param driver: Selenium WebDriver instance.\n",
    "    :param article_url: URL of the article to extract data from.\n",
    "    :param url_img: (optional) URL of the article's thumbnail/cover image.\n",
    "    :return: Dictionary containing article metadata and content.\n",
    "    \"\"\"\n",
    "\n",
    "    # Get to current article\n",
    "    driver.get(article_url)\n",
    "\n",
    "    # Title & description\n",
    "    title = driver.find_element(By.CSS_SELECTOR, \"h1.content-detail-title\").text.strip()\n",
    "    description = driver.find_element(By.CLASS_NAME, \"sm-sapo-mb-0\").text.strip()\n",
    "\n",
    "    # ---- Categories\n",
    "    lis_cat = []\n",
    "    try:\n",
    "        cats = driver.find_element(By.CLASS_NAME, \"sm-show-time\")\n",
    "        lis_cats = cats.find_elements(By.TAG_NAME, \"li\")\n",
    "        lis_cats = lis_cats[1:]\n",
    "        for cat in lis_cats:\n",
    "            category = cat.text.strip()\n",
    "            if category:\n",
    "                lis_cat.append(category)\n",
    "    except NoSuchElementException:\n",
    "        pass\n",
    "\n",
    "    main_cat = lis_cat[0] if lis_cat else \"Unknown\"\n",
    "    sub_cat_val = lis_cat[-1] if len(lis_cat) > 1 else \"None\"\n",
    "\n",
    "    # ---- Published date\n",
    "    try:\n",
    "        published_date = driver.find_element(By.CLASS_NAME, \"bread-crumb-detail__time\").text.strip()\n",
    "    except NoSuchElementException:\n",
    "        published_date = \"\"\n",
    "\n",
    "    # ---- Content\n",
    "    contents = []\n",
    "    author_str = \"Unknown\"     # final string for author\n",
    "    article = driver.find_element(By.CLASS_NAME, \"main-content\")\n",
    "    children = article.find_elements(By.XPATH, \"./*\")\n",
    "\n",
    "    for child in children:\n",
    "        text = child.text.strip()\n",
    "        if not text:\n",
    "            continue\n",
    "\n",
    "        if child.tag_name.lower() in {\"p\", \"h1\", \"h2\", \"h3\", \"h4\"}:\n",
    "            contents.append(text)\n",
    "\n",
    "        elif child.tag_name.lower() == \"figure\":\n",
    "            # Caption (<=100) bọc trong [] ; dài hơn coi như đoạn nội dung\n",
    "            if len(text) <= 100:\n",
    "                contents.append(f\"[{text}]\")\n",
    "            else:\n",
    "                contents.append(text)\n",
    "        # tables & others are ignored\n",
    "\n",
    "    # ---- Author(s)\n",
    "    authors = []\n",
    "    try:\n",
    "        wrapper = driver.find_element(By.CLASS_NAME, \"article-detail-author-wrapper\")\n",
    "        author_names = wrapper.find_elements(By.CLASS_NAME, \"name\")\n",
    "        for a in author_names:\n",
    "            # ưu tiên <a title=\"...\">, fallback text\n",
    "            t = (a.find_element(By.CSS_SELECTOR, \"a\").get_attribute(\"title\") \n",
    "                 if len(a.find_elements(By.CSS_SELECTOR, \"a\")) \n",
    "                 else a.text).strip()\n",
    "            if t:\n",
    "                authors.append(t)\n",
    "    except NoSuchElementException:\n",
    "        pass\n",
    "\n",
    "    if authors:\n",
    "        author_str = \", \".join(dict.fromkeys(authors))  # unique & stable order\n",
    "    else:\n",
    "        # fallback: cố gắng lấy dòng cuối giống dạng chữ ký tác giả\n",
    "        if contents:\n",
    "            last = contents[-1]\n",
    "            dash_pos = last.find('-')\n",
    "            if 0 <= dash_pos <= 30:\n",
    "                # ví dụ: \"Nguyễn A - Tổng hợp\"\n",
    "                possible = last[:dash_pos].strip()\n",
    "                if possible:\n",
    "                    author_str = possible\n",
    "\n",
    "    return {\n",
    "        \"url\": article_url,\n",
    "        \"url_img\": url_img,                # <-- added\n",
    "        \"title\": title,\n",
    "        \"description\": description,\n",
    "        \"content\": \"\\n\".join(contents),\n",
    "        \"metadata\": {\n",
    "            \"cat\": main_cat,\n",
    "            \"subcat\": sub_cat_val,\n",
    "            \"published_date\": published_date,\n",
    "            \"author\": author_str\n",
    "        }\n",
    "    }\n"
   ]
  },
  {
   "cell_type": "code",
   "execution_count": 72,
   "id": "bc1100ef",
   "metadata": {},
   "outputs": [],
   "source": [
    "FILE_URL_PATH = \"data/vietnamnet_url.json\"  \n",
    "MAX_ARTICLES_PER_CAT = None\n",
    "DATA_FOLDER_OUTPUT = os.path.join(\"data\", \"vietnamnet\")  # path portable cho mọi OS\n",
    "os.makedirs(DATA_FOLDER_OUTPUT, exist_ok=True)"
   ]
  },
  {
   "cell_type": "code",
   "execution_count": 73,
   "id": "e33998f4",
   "metadata": {},
   "outputs": [
    {
     "data": {
      "text/plain": [
       "11"
      ]
     },
     "execution_count": 73,
     "metadata": {},
     "output_type": "execute_result"
    }
   ],
   "source": [
    "with open(FILE_URL_PATH, \"r\", encoding=\"utf-8\") as fIn:\n",
    "    url_data = json.load(fIn)\n",
    "\n",
    "len(url_data)"
   ]
  },
  {
   "cell_type": "code",
   "execution_count": 74,
   "id": "eb35da05",
   "metadata": {},
   "outputs": [
    {
     "name": "stdout",
     "output_type": "stream",
     "text": [
      "Thu thập dữ liệu thể loại Chính trị ..\n",
      "Thu thập dữ liệu thể loại Thời sự ..\n",
      "Thu thập dữ liệu thể loại Kinh doanh ..\n",
      "Thu thập dữ liệu thể loại Thể thao ..\n",
      "Thu thập dữ liệu thể loại Giáo dục ..\n",
      "Thu thập dữ liệu thể loại Thế giới ..\n",
      "Thu thập dữ liệu thể loại Văn hóa - Giải trí ..\n",
      "Thu thập dữ liệu thể loại Sức khỏe ..\n",
      "Thu thập dữ liệu thể loại Công nghệ ..\n",
      "Thu thập dữ liệu thể loại Pháp luật ..\n",
      "Thu thập dữ liệu thể loại Du lịch ..\n",
      "Done.\n"
     ]
    }
   ],
   "source": [
    "driver = webdriver.Chrome(options=chrome_options)\n",
    "\n",
    "for cat, urls in url_data.items():\n",
    "    print(f\"Thu thập dữ liệu thể loại {cat} ..\")\n",
    "    count_crawled = 0\n",
    "    cat_data = []\n",
    "\n",
    "    for url in urls:\n",
    "        try:\n",
    "            # Giữ nguyên cấu trúc cũ, chỉ bổ sung url_img:\n",
    "            if isinstance(url, dict):\n",
    "                u = url.get(\"url\")\n",
    "                url_img = url.get(\"url_img\")\n",
    "            else:\n",
    "                u = url\n",
    "                url_img = None\n",
    "\n",
    "            article = get_content_metadata(driver, u, url_img=url_img)\n",
    "            cat_data.append(article)\n",
    "            count_crawled += 1\n",
    "\n",
    "            if MAX_ARTICLES_PER_CAT and count_crawled >= MAX_ARTICLES_PER_CAT:\n",
    "                break\n",
    "\n",
    "        except StaleElementReferenceException:\n",
    "            print(f\"Bug at url: {url}, with StaleElementReferenceException\")\n",
    "            driver.refresh()\n",
    "            continue\n",
    "\n",
    "        except NoSuchElementException:\n",
    "            print(f\"Bug at url: {url}, with NoSuchElementException\")\n",
    "            driver.refresh()\n",
    "            continue\n",
    "\n",
    "    # Lưu file JSON cho từng thể loại\n",
    "    name_file_cat = cat.lower().replace(\" \", \"-\") + \".json\"\n",
    "    out_path = os.path.join(DATA_FOLDER_OUTPUT, name_file_cat)\n",
    "    with open(out_path, \"w\", encoding=\"utf-8\") as fOut:\n",
    "        json.dump(cat_data, fOut, ensure_ascii=False, indent=4)\n",
    "\n",
    "driver.close()\n",
    "print(\"Done.\")\n"
   ]
  },
  {
   "cell_type": "code",
   "execution_count": null,
   "id": "c96715ff",
   "metadata": {},
   "outputs": [],
   "source": []
  }
 ],
 "metadata": {
  "kernelspec": {
   "display_name": "Python 3",
   "language": "python",
   "name": "python3"
  },
  "language_info": {
   "codemirror_mode": {
    "name": "ipython",
    "version": 3
   },
   "file_extension": ".py",
   "mimetype": "text/x-python",
   "name": "python",
   "nbconvert_exporter": "python",
   "pygments_lexer": "ipython3",
   "version": "3.13.3"
  }
 },
 "nbformat": 4,
 "nbformat_minor": 5
}
