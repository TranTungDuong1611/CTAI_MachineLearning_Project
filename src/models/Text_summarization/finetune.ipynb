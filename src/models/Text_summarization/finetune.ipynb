{
 "cells": [
  {
   "cell_type": "markdown",
   "id": "770bdcc0",
   "metadata": {},
   "source": [
    "### Import"
   ]
  },
  {
   "cell_type": "code",
   "execution_count": 2,
   "id": "d5f39fc1",
   "metadata": {},
   "outputs": [],
   "source": [
    "import glob\n",
    "import pandas as pd\n",
    "from vncorenlp import VnCoreNLP\n",
    "from concurrent.futures import ThreadPoolExecutor\n",
    "import transformers\n",
    "import warnings\n",
    "warnings.filterwarnings('ignore')\n",
    "from sklearn.model_selection import train_test_split\n",
    "from transformers import EncoderDecoderModel\n",
    "from transformers import Seq2SeqTrainer\n",
    "from transformers import TrainingArguments\n",
    "from dataclasses import dataclass, field\n",
    "from typing import Optional\n",
    "import evaluate\n",
    "import json"
   ]
  },
  {
   "cell_type": "markdown",
   "id": "5bad92eb",
   "metadata": {},
   "source": [
    "### Load data"
   ]
  },
  {
   "cell_type": "code",
   "execution_count": 6,
   "id": "8803a9b9",
   "metadata": {},
   "outputs": [
    {
     "data": {
      "text/plain": [
       "'d:\\\\CTAI_MachineLearning_Project\\\\src\\\\text_summarization'"
      ]
     },
     "execution_count": 6,
     "metadata": {},
     "output_type": "execute_result"
    }
   ],
   "source": [
    "%pwd"
   ]
  },
  {
   "cell_type": "code",
   "execution_count": 7,
   "id": "f2e61056",
   "metadata": {},
   "outputs": [
    {
     "name": "stdout",
     "output_type": "stream",
     "text": [
      "{'url': 'https://dantri.com.vn/xa-hoi/cao-toc-can-tho-ca-mau-dai-110km-se-co-2-tram-dung-nghi-20250821192808420.htm', 'title': 'Cao tốc Cần Thơ - Cà Mau dài 110km sẽ có 2 trạm dừng nghỉ', 'description': '(Dân trí) - Theo chủ đầu tư, cao tốc Cần Thơ - Cà Mau sẽ có 2 trạm dừng nghỉ. Một trạm ở địa bàn TP Cần Thơ với quy mô 6ha, trạm còn lại đặt tại tỉnh An Giang, có diện tích 3ha.', 'content': 'Chiều 21/8, tại Km53 đoạn qua xã Vị Thuỷ, TP Cần Thơ thuộc cao tốc Cần Thơ - Cà Mau, Đoàn công tác của Ủy ban Kinh tế và Tài chính của Quốc hội có buổi kiểm tra tiến độ dự án với chủ đầu tư, nhà thầu.\\nBáo cáo với Đoàn công tác, ông Phan Duy Lai, Phó giám đốc Ban Quản lý dự án Mỹ Thuận, cho biết sản lượng thi công dự án đến nay đạt hơn 74% so với kế hoạch.\\nÔng Phan Duy Lai, Phó Giám đốc Ban Quản lý dự án Mỹ Thuận báo cáo tiến độ thực hiện với đoàn công tác (Ảnh: Bảo Kỳ).\\nTheo ông Lai, các đơn vị đang triển khai nhân lực thi công 3 ca, 4 kíp, đảm bảo hoàn thành toàn bộ dự án vào 19/12 theo chỉ đạo của Chính phủ.\\n\"Đối với 2 trạm dừng nghỉ thuộc dự án, trạm dừng nghỉ trên địa bàn TP Cần Thơ có quy mô hơn 6ha đã mở thầu và đang triển khai đánh giá lựa chọn nhà đầu tư. Trạm còn lại thuộc tỉnh An Giang có quy mô khoảng 3ha, Ban đã trình Cục Đường bộ Việt Nam phê duyệt kết quả lựa chọn nhà đầu tư\", ông Lai cho hay.\\nTại buổi khảo sát, ông Nguyễn Thế Minh, Phó Cục trưởng Cục Kinh tế - Quản lý đầu tư xây dựng, cho biết tình hình vật liệu thi công, vật liệu, cát đá đã huy động đủ cho dự án để về đích đúng tiến độ.\\nĐối với các nút giao lớn như IC5, IC10, IC12... trên tuyến, do lưu lượng phương tiện nhiều, sẽ hoàn thành vào ngày 19/12. Những nút giao còn lại đến tháng 10 mới dỡ tải, sau đó thi công tổng thể đảm bảo tháng 6/2026 hoàn thành.\\nSau khi nghe báo cáo của chủ đầu tư, Phó Chủ nhiệm Ủy ban Kinh tế và Tài chính Nguyễn Minh Sơn động viên các đơn vị sớm đưa dự án về đích đúng hẹn vào ngày 19/12 như Chính phủ đề ra.\\nÔng Sơn đồng thời trao đổi về tiến độ của những hạ tầng liên quan cao tốc như trạm thu phí, trạm dừng nghỉ trên tuyến.\\nCao tốc trục dọc dài 110km sẽ thông xe vào ngày 19/12 (Ảnh: Bảo Kỳ).\\nTheo thiết kế, dự án xây dựng đường bộ cao tốc đoạn Cần Thơ - Cà Mau có chiều dài 110,85km, được chia làm 2 dự án thành phần gồm: đoạn Cần Thơ - Hậu Giang và đoạn Hậu Giang - Cà Mau.\\nTổng mức đầu tư của dự án là 27.523 tỷ đồng, khởi công ngày 1/1/2023, kế hoạch hoàn thành tháng 12/2025.\\nCao tốc Cần Thơ - Cà Mau là dự án cuối cùng của tuyến đường bộ cao tốc Bắc Nam phía Đông giai đoạn II, được kỳ vọng sẽ khép kín trục dọc \"xương sống mới\" kết nối nội vùng, liên vùng, thông tuyến cao tốc Bắc Nam từ TPHCM - Trung Lương - Mỹ Thuận - Cần Thơ, kết nối các đường cao tốc trục ngang Châu Đốc - Cần Thơ - Sóc Trăng và Hà Tiên - Rạch Giá - Bạc Liêu trong tương lai.\\nKhi hoàn thành đưa vào khai thác, cao tốc có quy mô 4 làn xe, nền đường rộng 17m, vận tốc tối đa 80km/h. Giai đoạn hoàn chỉnh, bề rộng nền đường 25m, vận tốc tối đa 120km/h, hoàn thành mục tiêu cả nước nối thông tuyến cao tốc từ Cao Bằng tới Cà Mau và hoàn thành 600km cao tốc tại Đồng bằng sông Cửu Long trong nhiệm kỳ này.', 'metadata': {'cat': 'Xã hội', 'published_date': '21/08/2025 - 20:27', 'author': 'Bảo Kỳ', 'subcat': ''}, 'url_img': 'https://cdnphoto.dantri.com.vn/P1a2PG0E8zh4Id3oC2NPK6TYJE0=/zoom/1200_630/2025/08/21/cao-tocbao-ky-30-cropped-1755778947559.jpg?watermark=true', 'title_clean': 'cao_tốc thơ - cà_mau 110 km 2 trạm dừng nghỉ', 'desc_clean': 'dân_trí - chủ đầu_tư cao_tốc thơ - cà_mau 2 trạm dừng nghỉ . trạm địa_bàn tp cần_thơ quy_mô 6 ha trạm tỉnh an_giang có diện_tích 3 ha .', 'content_clean': 'chiều 21 8 km53 đoạn xã vị thủy tp thơ cao_tốc cần thơ - cà_mau đoàn công_tác ủy_ban kinh_tế tài_chính của quốc_hội kiểm_tra tiến_độ dự_án chủ đầu_tư nhà_thầu . báo_cáo với đoàn công_tác phan_duy_lai phó giám_đốc ban quản_lý dự_án mỹ_thuận sản_lượng thi_công dự_án 74 % với kế_hoạch . ông phan_duy_lai phó giám_đốc ban quản_lý dự_án mỹ_thuận báo_cáo tiến_độ với đoàn công_tác ảnh bảo_kỳ . ông lai triển_khai nhân_lực thi_công 3 ca 4 kíp hoàn_thành toàn_bộ dự_án 19 12 theo chỉ_đạo của chính_phủ . 2 trạm dừng nghỉ thuộc dự_án trạm dừng nghỉ địa_bàn tp cần thơ có quy_mô hơn 6 ha mở_thầu và đang triển_khai lựa_chọn nhà_đầu_tư . trạm thuộc tỉnh an_giang có quy_mô 3 ha ban đã trình cục đường_bộ việt_nam phê_duyệt kết_quả lựa_chọn nhà_đầu_tư ông lai . tại buổi khảo_sát ông nguyễn_thế_minh phó cục trưởng cục kinh_tế - quản_lý đầu_tư xây_dựng cho biết tình_hình vật_liệu thi_công vật_liệu cát đá đã huy_động cho dự_án đích tiến_độ . đối_với các nút giao ic5 ic10 ic12 ... trên tuyến lưu_lượng phương_tiện hoàn_thành vào 19 12 . nút giao còn lại đến 10 dỡ_tải thi_công tổng_thể đảm_bảo tháng 6 2026 hoàn_thành . sau báo_cáo của chủ đầu_tư phó chủ_nhiệm ủy_ban kinh_tế và tài_chính nguyễn_minh_sơn động_viên các đơn_vị dự_án về đích đúng hẹn vào ngày 19 12 như chính_phủ đề . ông sơn trao_đổi về tiến_độ của những hạ_tầng cao_tốc như trạm thu phí trạm dừng nghỉ trên tuyến . cao_tốc trục dọc 110 km sẽ thông xe vào ngày 19 12 ảnh bảo_kỳ . theo thiết_kế dự_án xây_dựng đường_bộ cao_tốc đoạn cần thơ - cà_mau có chiều dài 110 85 km chia 2 dự_án thành_phần đoạn cần_thơ - hậu_giang và đoạn hậu_giang - cà_mau . tổng đầu_tư của dự_án 27.523 tỷ đồng khởi_công ngày 1 1 2023 kế_hoạch hoàn_thành tháng 12 2025 . cao_tốc cần thơ - cà_mau là dự_án của tuyến đường_bộ cao_tốc bắc nam đông giai_đoạn ii được kỳ_vọng sẽ khép_kín trục dọc xương_sống mới kết_nối nội_vùng liên_vùng thông_tuyến cao_tốc bắc_nam tphcm - trung_lương - mỹ_thuận - cần thơ kết_nối các đường_cao_tốc trục ngang châu_đốc - cần thơ - sóc_trăng và hà_tiên - rạch giá - bạc_liêu tương_lai . khi hoàn_thành đưa vào khai_thác cao_tốc có quy_mô 4 làn xe đường rộng 17 m vận_tốc tối_đa 80 km h . giai_đoạn hoàn_chỉnh bề rộng nền đường 25 m vận_tốc tối_đa 120 km h hoàn_thành mục_tiêu nối thông_tuyến cao_tốc từ cà_mau và hoàn_thành 600 km cao_tốc tại đồng_bằng sông cửu_long trong nhiệm_kỳ .'}\n"
     ]
    }
   ],
   "source": [
    "with open(\"../../data/processed_data/processed_data_dash.json\", \"r\", encoding=\"utf-8\") as f:\n",
    "    data = json.load(f)\n",
    "print(data[0])"
   ]
  },
  {
   "cell_type": "code",
   "execution_count": null,
   "id": "2aa8b533",
   "metadata": {},
   "outputs": [],
   "source": [
    "OUTPUT_DIR = '/content/training/'"
   ]
  },
  {
   "cell_type": "code",
   "execution_count": null,
   "id": "ff728a19",
   "metadata": {},
   "outputs": [],
   "source": []
  }
 ],
 "metadata": {
  "kernelspec": {
   "display_name": ".conda",
   "language": "python",
   "name": "python3"
  },
  "language_info": {
   "codemirror_mode": {
    "name": "ipython",
    "version": 3
   },
   "file_extension": ".py",
   "mimetype": "text/x-python",
   "name": "python",
   "nbconvert_exporter": "python",
   "pygments_lexer": "ipython3",
   "version": "3.10.15"
  }
 },
 "nbformat": 4,
 "nbformat_minor": 5
}
